{
 "cells": [
  {
   "cell_type": "markdown",
   "metadata": {},
   "source": [
    "<span style=\"color:orange; font-weight:bold\">Note: To answer questions based on text documents, we recommend the procedure in <a href=\"https://github.com/openai/openai-cookbook/blob/main/examples/Question_answering_using_embeddings.ipynb\">Question Answering using Embeddings</a>. Some of the code below may rely on <a href=\"https://github.com/openai/openai-cookbook/tree/main/transition_guides_for_deprecated_API_endpoints\">deprecated API endpoints</a>.</span>"
   ]
  },
  {
   "cell_type": "markdown",
   "metadata": {},
   "source": [
    "# 1. Collect Wikipedia data about Olympic Games 2020\n",
    "\n",
    "The idea of this project is to create a question answering model, based on a few paragraphs of provided text. Base GPT-3 models do a good job at answering questions when the answer is contained within the paragraph, however if the answer isn't contained, the base models tend to try their best to answer anyway, often leading to confabulated answers. \n",
    "\n",
    "To create a model which answers questions only if there is sufficient context for doing so, we first create a dataset of questions and answers based on paragraphs of text. In order to train the model to answer only when the answer is present, we also add adversarial examples, where the question doesn't match the context. In those cases, we ask the model to output \"No sufficient context for answering the question\". \n",
    "\n",
    "We will perform this task in three notebooks:\n",
    "1. The first (this) notebook focuses on collecting recent data, which GPT-3 didn't see during it's pre-training. We picked the topic of Olympic Games 2020 (which actually took place in the summer of 2021), and downloaded 713 unique pages. We organized the dataset by individual sections, which will serve as context for asking and answering the questions.\n",
    "2. The [second notebook](olympics-2-create-qa.ipynb) will utilize Davinci-instruct to ask a few questions based on a Wikipedia section, as well as answer those questions, based on that section.\n",
    "3. The [third notebook](olympics-3-train-qa.ipynb) will utilize the dataset of context, question and answer pairs to additionally create adversarial questions and context pairs, where the question was not generated on that context. In those cases the model will be prompted to answer \"No sufficient context for answering the question\". We will also train a discriminator model, which predicts whether the question can be answered based on the context or not."
   ]
  },
  {
   "cell_type": "markdown",
   "metadata": {},
   "source": [
    "## 1.1 Data extraction using the wikipedia API\n",
    "Extracting the data will take about half an hour, and processing will likely take about as much."
   ]
  },
  {
   "cell_type": "code",
   "execution_count": 1,
   "metadata": {},
   "outputs": [],
   "source": [
    "import pandas as pd\n",
    "import wikipedia\n",
    "\n",
    "\n",
    "def filter_olympic_2020_titles(titles):\n",
    "    \"\"\"\n",
    "    Get the titles which are related to Olympic games hosted in 2020, given a list of titles\n",
    "    \"\"\"\n",
    "    titles = [title for title in titles if '2020' in title and 'olympi' in title.lower()]\n",
    "    \n",
    "    return titles\n",
    "\n",
    "def get_wiki_page(title):\n",
    "    \"\"\"\n",
    "    Get the wikipedia page given a title\n",
    "    \"\"\"\n",
    "    try:\n",
    "        return wikipedia.page(title)\n",
    "    except wikipedia.exceptions.DisambiguationError as e:\n",
    "        return wikipedia.page(e.options[0])\n",
    "    except wikipedia.exceptions.PageError as e:\n",
    "        return None\n",
    "\n",
    "def recursively_find_all_pages(titles, titles_so_far=set()):\n",
    "    \"\"\"\n",
    "    Recursively find all the pages that are linked to the Wikipedia titles in the list\n",
    "    \"\"\"\n",
    "    all_pages = []\n",
    "    \n",
    "    titles = list(set(titles) - titles_so_far)\n",
    "    titles = filter_olympic_2020_titles(titles)\n",
    "    titles_so_far.update(titles)\n",
    "    for title in titles:\n",
    "        page = get_wiki_page(title)\n",
    "        if page is None:\n",
    "            continue\n",
    "        all_pages.append(page)\n",
    "\n",
    "        new_pages = recursively_find_all_pages(page.links, titles_so_far)\n",
    "        for pg in new_pages:\n",
    "            if pg.title not in [p.title for p in all_pages]:\n",
    "                all_pages.append(pg)\n",
    "        titles_so_far.update(page.links)\n",
    "    return all_pages\n",
    "\n"
   ]
  },
  {
   "cell_type": "code",
   "execution_count": 7,
   "metadata": {},
   "outputs": [
    {
     "data": {
      "text/plain": [
       "[\"2020 AFC Women's Olympic Qualifying Tournament\",\n",
       " '2020 Asia & Oceania Boxing Olympic Qualification Tournament',\n",
       " '2020 European Boxing Olympic Qualification Tournament',\n",
       " \"2020 FIBA Women's Olympic Qualifying Tournaments – Belgrade 2\",\n",
       " '2020 Olympics',\n",
       " '2020 Summer Olympic and Paralympic Games mascots',\n",
       " '2020 Summer Olympics',\n",
       " '2020 Summer Olympics Parade of Nations',\n",
       " '2020 Summer Olympics closing ceremony',\n",
       " '2020 Summer Olympics closing ceremony flag bearers',\n",
       " '2020 Summer Olympics development',\n",
       " '2020 Summer Olympics marketing',\n",
       " '2020 Summer Olympics medal table',\n",
       " '2020 Summer Olympics opening ceremony',\n",
       " '2020 Summer Olympics pictograms',\n",
       " '2020 Summer Olympics torch relay',\n",
       " '2020 Winter Youth Olympics',\n",
       " 'Afghanistan at the 2020 Summer Olympics',\n",
       " 'Albania at the 2020 Summer Olympics',\n",
       " 'Algeria at the 2020 Summer Olympics',\n",
       " 'American Samoa at the 2020 Summer Olympics',\n",
       " 'Andorra at the 2020 Summer Olympics',\n",
       " 'Angola at the 2020 Summer Olympics',\n",
       " 'Antigua and Barbuda at the 2020 Summer Olympics',\n",
       " 'Archery at the 2020 Summer Olympics',\n",
       " 'Archery at the 2020 Summer Olympics – Qualification',\n",
       " 'Argentina at the 2020 Summer Olympics',\n",
       " 'Armenia at the 2020 Summer Olympics',\n",
       " 'Artistic swimming at the 2020 Summer Olympics',\n",
       " 'Artistic swimming at the 2020 Summer Olympics – Qualification',\n",
       " 'Aruba at the 2020 Summer Olympics',\n",
       " 'Athletics at the 2020 Summer Olympics',\n",
       " 'Athletics at the 2020 Summer Olympics – Qualification',\n",
       " \"Athletics at the 2020 Summer Olympics – Women's 100 metres\",\n",
       " 'Australia at the 2020 Summer Olympics',\n",
       " 'Austria at the 2020 Summer Olympics',\n",
       " 'Azerbaijan at the 2020 Summer Olympics',\n",
       " 'Badminton at the 2020 Summer Olympics',\n",
       " 'Badminton at the 2020 Summer Olympics – Qualification',\n",
       " 'Bahamas at the 2020 Summer Olympics',\n",
       " 'Bahrain at the 2020 Summer Olympics',\n",
       " 'Baku bid for the 2020 Summer Olympics',\n",
       " 'Bangladesh at the 2020 Summer Olympics',\n",
       " 'Barbados at the 2020 Summer Olympics',\n",
       " 'Baseball at the 2020 Summer Olympics',\n",
       " 'Baseball at the 2020 Summer Olympics – Qualification',\n",
       " 'Basketball at the 2020 Summer Olympics',\n",
       " \"Basketball at the 2020 Summer Olympics – Men's 3x3 qualification\",\n",
       " \"Basketball at the 2020 Summer Olympics – Men's qualification\",\n",
       " \"Basketball at the 2020 Summer Olympics – Women's 3x3 qualification\",\n",
       " \"Basketball at the 2020 Summer Olympics – Women's qualification\",\n",
       " \"Beach volleyball at the 2020 Summer Olympics – Men's qualification\",\n",
       " \"Beach volleyball at the 2020 Summer Olympics – Women's qualification\",\n",
       " 'Belarus 2020 Summer Olympics scandal',\n",
       " 'Belarus at the 2020 Summer Olympics',\n",
       " 'Belgium at the 2020 Summer Olympics',\n",
       " 'Belize at the 2020 Summer Olympics',\n",
       " 'Benin at the 2020 Summer Olympics',\n",
       " 'Bermuda at the 2020 Summer Olympics',\n",
       " 'Bhutan at the 2020 Summer Olympics',\n",
       " 'Bids for the 2020 Summer Olympics',\n",
       " 'Bolivia at the 2020 Summer Olympics',\n",
       " 'Bosnia and Herzegovina at the 2020 Summer Olympics',\n",
       " 'Botswana at the 2020 Summer Olympics',\n",
       " 'Boxing at the 2020 Summer Olympics',\n",
       " 'Boxing at the 2020 Summer Olympics – Qualification',\n",
       " 'Brazil at the 2020 Summer Olympics',\n",
       " 'British Virgin Islands at the 2020 Summer Olympics',\n",
       " 'Brunei at the 2020 Summer Olympics',\n",
       " 'Bulgaria at the 2020 Summer Olympics',\n",
       " 'Burkina Faso at the 2020 Summer Olympics',\n",
       " 'Burundi at the 2020 Summer Olympics',\n",
       " 'COVID-19 cases at the 2020 Summer Olympics',\n",
       " 'COVID-19 cases at the 2020 Summer Olympics and 2020 Summer Paralympics',\n",
       " 'Cambodia at the 2020 Summer Olympics',\n",
       " 'Cameroon at the 2020 Summer Olympics',\n",
       " 'Canada at the 2020 Summer Olympics',\n",
       " 'Canoeing at the 2020 Summer Olympics',\n",
       " 'Canoeing at the 2020 Summer Olympics – Qualification',\n",
       " 'Cape Verde at the 2020 Summer Olympics',\n",
       " 'Cayman Islands at the 2020 Summer Olympics',\n",
       " 'Central African Republic at the 2020 Summer Olympics',\n",
       " 'Chad at the 2020 Summer Olympics',\n",
       " 'Chile at the 2020 Summer Olympics',\n",
       " 'China at the 2020 Summer Olympics',\n",
       " 'Chinese Taipei at the 2020 Summer Olympics',\n",
       " 'Chronological summary of the 2020 Summer Olympics',\n",
       " 'Colombia at the 2020 Summer Olympics',\n",
       " 'Comoros at the 2020 Summer Olympics',\n",
       " 'Concerns and controversies at the 2020 Summer Olympics',\n",
       " 'Cook Islands at the 2020 Summer Olympics',\n",
       " 'Costa Rica at the 2020 Summer Olympics',\n",
       " 'Croatia at the 2020 Summer Olympics',\n",
       " 'Cuba at the 2020 Summer Olympics',\n",
       " 'Cycling at the 2020 Summer Olympics',\n",
       " 'Cycling at the 2020 Summer Olympics – Qualification',\n",
       " \"Cycling at the 2020 Summer Olympics – Women's cross-country\",\n",
       " 'Cyprus at the 2020 Summer Olympics',\n",
       " 'Czech Republic at the 2020 Summer Olympics',\n",
       " 'Democratic Republic of the Congo at the 2020 Summer Olympics',\n",
       " 'Denmark at the 2020 Summer Olympics',\n",
       " 'Diving at the 2020 Summer Olympics',\n",
       " 'Diving at the 2020 Summer Olympics – Qualification',\n",
       " 'Djibouti at the 2020 Summer Olympics',\n",
       " 'Doha bid for the 2020 Summer Olympics',\n",
       " 'Dominica at the 2020 Summer Olympics',\n",
       " 'Dominican Republic at the 2020 Summer Olympics',\n",
       " 'East Timor at the 2020 Summer Olympics',\n",
       " 'Ecuador at the 2020 Summer Olympics',\n",
       " 'Egypt at the 2020 Summer Olympics',\n",
       " 'El Salvador at the 2020 Summer Olympics',\n",
       " 'Equatorial Guinea at the 2020 Summer Olympics',\n",
       " 'Equestrian at the 2020 Summer Olympics',\n",
       " 'Equestrian at the 2020 Summer Olympics – Qualification',\n",
       " 'Eritrea at the 2020 Summer Olympics',\n",
       " 'Estonia at the 2020 Summer Olympics',\n",
       " 'Eswatini at the 2020 Summer Olympics',\n",
       " 'Ethiopia at the 2020 Summer Olympics',\n",
       " 'Federated States of Micronesia at the 2020 Summer Olympics',\n",
       " 'Fencing at the 2020 Summer Olympics',\n",
       " 'Fencing at the 2020 Summer Olympics – Qualification',\n",
       " 'Field hockey at the 2020 Summer Olympics',\n",
       " \"Field hockey at the 2020 Summer Olympics – Men's qualification\",\n",
       " \"Field hockey at the 2020 Summer Olympics – Women's qualification\",\n",
       " 'Fiji at the 2020 Summer Olympics',\n",
       " 'Finland at the 2020 Summer Olympics',\n",
       " 'Football at the 2020 Summer Olympics',\n",
       " \"Football at the 2020 Summer Olympics – Men's qualification\",\n",
       " \"Football at the 2020 Summer Olympics – Women's qualification\",\n",
       " 'France at the 2020 Summer Olympics',\n",
       " 'Gabon at the 2020 Summer Olympics',\n",
       " 'Georgia at the 2020 Summer Olympics',\n",
       " 'Germany at the 2020 Summer Olympics',\n",
       " 'Ghana at the 2020 Summer Olympics',\n",
       " 'Golf at the 2020 Summer Olympics',\n",
       " 'Golf at the 2020 Summer Olympics – Qualification',\n",
       " 'Great Britain at the 2020 Summer Olympics',\n",
       " 'Greece at the 2020 Summer Olympics',\n",
       " 'Grenada at the 2020 Summer Olympics',\n",
       " 'Guam at the 2020 Summer Olympics',\n",
       " 'Guatemala at the 2020 Summer Olympics',\n",
       " 'Guinea-Bissau at the 2020 Summer Olympics',\n",
       " 'Guinea at the 2020 Summer Olympics',\n",
       " 'Guyana at the 2020 Summer Olympics',\n",
       " 'Gymnastics at the 2020 Summer Olympics',\n",
       " 'Gymnastics at the 2020 Summer Olympics – Qualification',\n",
       " 'Haiti at the 2020 Summer Olympics',\n",
       " 'Handball at the 2020 Summer Olympics',\n",
       " \"Handball at the 2020 Summer Olympics – Men's qualification\",\n",
       " \"Handball at the 2020 Summer Olympics – Women's qualification\",\n",
       " 'Honduras at the 2020 Summer Olympics',\n",
       " 'Hong Kong at the 2020 Summer Olympics',\n",
       " 'Hungary at the 2020 Summer Olympics',\n",
       " 'IOC Refugee Olympic Team at the 2020 Summer Olympics',\n",
       " 'Iceland at the 2020 Summer Olympics',\n",
       " 'India at the 2020 Summer Olympics',\n",
       " 'Indonesia at the 2020 Summer Olympics',\n",
       " 'Iran at the 2020 Summer Olympics',\n",
       " 'Iraq at the 2020 Summer Olympics',\n",
       " 'Ireland at the 2020 Summer Olympics',\n",
       " 'Israel at the 2020 Summer Olympics',\n",
       " 'Istanbul bid for the 2020 Summer Olympics',\n",
       " 'Italy at the 2020 Summer Olympics',\n",
       " 'Ivory Coast at the 2020 Summer Olympics',\n",
       " 'Jamaica at the 2020 Summer Olympics',\n",
       " 'Japan at the 2020 Summer Olympics',\n",
       " 'Jordan at the 2020 Summer Olympics',\n",
       " 'Judo at the 2020 Summer Olympics',\n",
       " 'Judo at the 2020 Summer Olympics – Qualification',\n",
       " 'Karate at the 2020 Summer Olympics',\n",
       " 'Karate at the 2020 Summer Olympics – Qualification',\n",
       " 'Kazakhstan at the 2020 Summer Olympics',\n",
       " 'Kenya at the 2020 Summer Olympics',\n",
       " 'Kiribati at the 2020 Summer Olympics',\n",
       " 'Kosovo at the 2020 Summer Olympics',\n",
       " 'Kuwait at the 2020 Summer Olympics',\n",
       " 'Kyrgyzstan at the 2020 Summer Olympics',\n",
       " 'Laos at the 2020 Summer Olympics',\n",
       " 'Latvia at the 2020 Summer Olympics',\n",
       " 'Lebanon at the 2020 Summer Olympics',\n",
       " 'Lesotho at the 2020 Summer Olympics',\n",
       " 'Liberia at the 2020 Summer Olympics',\n",
       " 'Libya at the 2020 Summer Olympics',\n",
       " 'Liechtenstein at the 2020 Summer Olympics',\n",
       " 'List of 2020 Summer Olympics broadcasters',\n",
       " 'List of 2020 Summer Olympics medal winners',\n",
       " 'List of athletes not attending the 2020 Summer Olympics due to COVID-19 concerns',\n",
       " 'Lithuania at the 2020 Summer Olympics',\n",
       " 'Luxembourg at the 2020 Summer Olympics',\n",
       " 'Madagascar at the 2020 Summer Olympics',\n",
       " 'Madrid bid for the 2020 Summer Olympics',\n",
       " 'Malawi at the 2020 Summer Olympics',\n",
       " 'Malaysia at the 2020 Summer Olympics',\n",
       " 'Maldives at the 2020 Summer Olympics',\n",
       " 'Mali at the 2020 Summer Olympics',\n",
       " 'Malta at the 2020 Summer Olympics',\n",
       " 'Marathon swimming at the 2020 Summer Olympics',\n",
       " 'Marshall Islands at the 2020 Summer Olympics',\n",
       " 'Mauritania at the 2020 Summer Olympics',\n",
       " 'Mauritius at the 2020 Summer Olympics',\n",
       " 'Mexico at the 2020 Summer Olympics',\n",
       " 'Modern pentathlon at the 2020 Summer Olympics',\n",
       " 'Modern pentathlon at the 2020 Summer Olympics – Qualification',\n",
       " 'Moldova at the 2020 Summer Olympics',\n",
       " 'Monaco at the 2020 Summer Olympics',\n",
       " 'Mongolia at the 2020 Summer Olympics',\n",
       " 'Montenegro at the 2020 Summer Olympics',\n",
       " 'Morocco at the 2020 Summer Olympics',\n",
       " 'Mozambique at the 2020 Summer Olympics',\n",
       " 'Myanmar at the 2020 Summer Olympics',\n",
       " 'Namibia at the 2020 Summer Olympics',\n",
       " 'Nauru at the 2020 Summer Olympics',\n",
       " 'Nepal at the 2020 Summer Olympics',\n",
       " 'Netherlands at the 2020 Summer Olympics',\n",
       " 'New Zealand at the 2020 Summer Olympics',\n",
       " 'Nicaragua at the 2020 Summer Olympics',\n",
       " 'Niger at the 2020 Summer Olympics',\n",
       " 'Nigeria at the 2020 Summer Olympics',\n",
       " 'North Macedonia at the 2020 Summer Olympics',\n",
       " 'Norway at the 2020 Summer Olympics',\n",
       " 'Oman at the 2020 Summer Olympics',\n",
       " 'Pakistan at the 2020 Summer Olympics',\n",
       " 'Palau at the 2020 Summer Olympics',\n",
       " 'Palestine at the 2020 Summer Olympics',\n",
       " 'Panama at the 2020 Summer Olympics',\n",
       " 'Papua New Guinea at the 2020 Summer Olympics',\n",
       " 'Paraguay at the 2020 Summer Olympics',\n",
       " 'Peru at the 2020 Summer Olympics',\n",
       " 'Philippines at the 2020 Summer Olympics',\n",
       " 'Poland at the 2020 Summer Olympics',\n",
       " 'Portugal at the 2020 Summer Olympics',\n",
       " 'Puerto Rico at the 2020 Summer Olympics',\n",
       " 'Qatar at the 2020 Summer Olympics',\n",
       " 'Refugee Olympic Team at the 2020 Summer Olympics',\n",
       " 'Republic of the Congo at the 2020 Summer Olympics',\n",
       " 'Romania at the 2020 Summer Olympics',\n",
       " 'Rome bid for the 2020 Summer Olympics',\n",
       " 'Rowing at the 2020 Summer Olympics',\n",
       " 'Rowing at the 2020 Summer Olympics – Qualification',\n",
       " 'Rugby sevens at the 2020 Summer Olympics',\n",
       " \"Rugby sevens at the 2020 Summer Olympics – Men's qualification\",\n",
       " \"Rugby sevens at the 2020 Summer Olympics – Women's qualification\",\n",
       " 'Russian Olympic Committee athletes at the 2020 Summer Olympics',\n",
       " 'Rwanda at the 2020 Summer Olympics',\n",
       " 'Sailing at the 2020 Summer Olympics',\n",
       " 'Sailing at the 2020 Summer Olympics – Qualification',\n",
       " 'Saint Kitts and Nevis at the 2020 Summer Olympics',\n",
       " 'Saint Lucia at the 2020 Summer Olympics',\n",
       " 'Saint Vincent and the Grenadines at the 2020 Summer Olympics',\n",
       " 'Samoa at the 2020 Summer Olympics',\n",
       " 'San Marino at the 2020 Summer Olympics',\n",
       " 'Saudi Arabia at the 2020 Summer Olympics',\n",
       " 'Senegal at the 2020 Summer Olympics',\n",
       " 'Serbia at the 2020 Summer Olympics',\n",
       " 'Seychelles at the 2020 Summer Olympics',\n",
       " 'Shooting at the 2020 Summer Olympics',\n",
       " 'Shooting at the 2020 Summer Olympics – Qualification',\n",
       " 'Sierra Leone at the 2020 Summer Olympics',\n",
       " 'Singapore at the 2020 Summer Olympics',\n",
       " 'Skateboarding at the 2020 Summer Olympics',\n",
       " 'Skateboarding at the 2020 Summer Olympics – Qualification',\n",
       " 'Slovakia at the 2020 Summer Olympics',\n",
       " 'Slovenia at the 2020 Summer Olympics',\n",
       " 'Softball at the 2020 Summer Olympics',\n",
       " 'Softball at the 2020 Summer Olympics – Qualification',\n",
       " 'Solomon Islands at the 2020 Summer Olympics',\n",
       " 'Somalia at the 2020 Summer Olympics',\n",
       " 'South Africa at the 2020 Summer Olympics',\n",
       " 'South Korea at the 2020 Summer Olympics',\n",
       " 'South Sudan at the 2020 Summer Olympics',\n",
       " 'Spain at the 2020 Summer Olympics',\n",
       " 'Sport climbing at the 2020 Summer Olympics',\n",
       " 'Sport climbing at the 2020 Summer Olympics – Qualification',\n",
       " 'Sri Lanka at the 2020 Summer Olympics',\n",
       " 'Sudan at the 2020 Summer Olympics',\n",
       " 'Surfing at the 2020 Summer Olympics',\n",
       " 'Surfing at the 2020 Summer Olympics – Qualification',\n",
       " 'Suriname at the 2020 Summer Olympics',\n",
       " 'Sweden at the 2020 Summer Olympics',\n",
       " 'Swimming at the 2020 Summer Olympics',\n",
       " 'Swimming at the 2020 Summer Olympics – Qualification',\n",
       " 'Switzerland at the 2020 Summer Olympics',\n",
       " 'Syria at the 2020 Summer Olympics',\n",
       " 'São Tomé and Príncipe at the 2020 Summer Olympics',\n",
       " 'Table tennis at the 2020 Summer Olympics',\n",
       " 'Table tennis at the 2020 Summer Olympics – Qualification',\n",
       " 'Taekwondo at the 2020 Summer Olympics',\n",
       " 'Taekwondo at the 2020 Summer Olympics – Qualification',\n",
       " 'Tajikistan at the 2020 Summer Olympics',\n",
       " 'Tanzania at the 2020 Summer Olympics',\n",
       " 'Tennis at the 2020 Summer Olympics',\n",
       " 'Tennis at the 2020 Summer Olympics – Qualification',\n",
       " 'Thailand at the 2020 Summer Olympics',\n",
       " 'The Gambia at the 2020 Summer Olympics',\n",
       " 'Togo at the 2020 Summer Olympics',\n",
       " 'Tokyo bid for the 2020 Summer Olympics',\n",
       " 'Tonga at the 2020 Summer Olympics',\n",
       " 'Triathlon at the 2020 Summer Olympics',\n",
       " 'Triathlon at the 2020 Summer Olympics – Qualification',\n",
       " 'Trinidad and Tobago at the 2020 Summer Olympics',\n",
       " 'Tunisia at the 2020 Summer Olympics',\n",
       " 'Turkey at the 2020 Summer Olympics',\n",
       " 'Turkmenistan at the 2020 Summer Olympics',\n",
       " 'Tuvalu at the 2020 Summer Olympics',\n",
       " 'Uganda at the 2020 Summer Olympics',\n",
       " 'Ukraine at the 2020 Summer Olympics',\n",
       " 'United Arab Emirates at the 2020 Summer Olympics',\n",
       " 'United States at the 2020 Summer Olympics',\n",
       " 'Uruguay at the 2020 Summer Olympics',\n",
       " 'Uzbekistan at the 2020 Summer Olympics',\n",
       " 'Vanuatu at the 2020 Summer Olympics',\n",
       " 'Venezuela at the 2020 Summer Olympics',\n",
       " 'Venues of the 2020 Summer Olympics and Paralympics',\n",
       " 'Vietnam at the 2020 Summer Olympics',\n",
       " 'Virgin Islands at the 2020 Summer Olympics',\n",
       " 'Volleyball at the 2020 Summer Olympics',\n",
       " \"Volleyball at the 2020 Summer Olympics – Men's qualification\",\n",
       " \"Volleyball at the 2020 Summer Olympics – Women's qualification\",\n",
       " 'Water polo at the 2020 Summer Olympics',\n",
       " \"Water polo at the 2020 Summer Olympics – Men's qualification\",\n",
       " \"Water polo at the 2020 Summer Olympics – Women's qualification\",\n",
       " 'Weightlifting at the 2020 Summer Olympics',\n",
       " 'Weightlifting at the 2020 Summer Olympics – Qualification',\n",
       " 'World and Olympic records set at the 2020 Summer Olympics',\n",
       " 'Wrestling at the 2020 Summer Olympics',\n",
       " 'Wrestling at the 2020 Summer Olympics – Qualification',\n",
       " 'Yemen at the 2020 Summer Olympics',\n",
       " 'Zambia at the 2020 Summer Olympics',\n",
       " 'Zimbabwe at the 2020 Summer Olympics']"
      ]
     },
     "execution_count": 7,
     "metadata": {},
     "output_type": "execute_result"
    }
   ],
   "source": [
    "p=get_wiki_page([\"2020 Summer Olympics\"])\n",
    "filter_olympic_2020_titles(p.links)"
   ]
  },
  {
   "cell_type": "code",
   "execution_count": 4,
   "metadata": {},
   "outputs": [
    {
     "data": {
      "text/plain": [
       "'The 2020 Summer Olympics (Japanese: 2020年夏季オリンピック, Hepburn: Nisen Nijū-nen Kaki Orinpikku), officially the Games of the XXXII Olympiad (第三十二回オリンピック競技大会, Dai Sanjūni-kai Orinpikku Kyōgi Taikai) and also known as Tokyo 2020 (東京2020, Tōkyō Nii Zero Nii Zero), was an international multi-sport event held from 23 July to 8 August 2021 in Tokyo, Japan, with some preliminary events that began on 21 July.\\nTokyo was selected as the host city during the 125th IOC Session in Buenos Aires, Argentina, on 7 September 2013. The Games were originally scheduled to take place from 24 July to 9 August 2020, but due to the global COVID-19 pandemic, on 24 March 2020, the event was postponed to 2021, the first such instance in the history of the Olympic Games (previous games had been cancelled but not rescheduled). However, the event retained the Tokyo 2020 branding for marketing purpose. It was largely held behind closed doors with no public spectators permitted due to the declaration of a state of emergency in the Greater Tokyo Area in response to the pandemic, the first and so far only Olympic Games to be held without official spectators. The Games were the most expensive ever, with total spending of over $20 billion.The 2020 Games were the fourth Olympic Games to be held in Japan, following the 1964 Summer Olympics (Tokyo), 1972 Winter Olympics (Sapporo), and 1998 Winter Olympics (Nagano). Tokyo became the first city in Asia to hold the Summer Games twice. The 2020 Games were the second of three consecutive Olympics to be held in East Asia, following the 2018 Winter Olympics in Pyeongchang, South Korea and preceding the 2022 Winter Olympics in Beijing, China. Due to the one-year postponement, Tokyo 2020 was the first and only Olympic Games to have been held in an odd-numbered year and the first Summer Olympics since the 1900 Games to be held in a non-leap year.\\nNew events were introduced in existing sports for 2020, including 3x3 basketball, freestyle BMX and mixed gender team events in a number of existing sports, as well as the return of madison cycling for men and an introduction of the same event for women. New IOC policies also allowed the host organizing committee to add new sports to the Olympic program for just one Games. The disciplines added by the Japanese Olympic Committee were baseball and softball, karate, sport climbing, surfing and skateboarding, the last four of which made their Olympic debuts, and the last three of which will remain on the Olympic program.The United States topped the medal count by both total golds (39) and total medals (113), with China finishing second by both respects (38 and 89). Host nation Japan finished third, setting a record for the most gold medals and total medals ever won by their delegation at an Olympic Games with 27 and 58. Great Britain finished fourth, with a total of 22 gold and 64 medals. The Russian delegation competing as the ROC finished fifth with 20 gold medals and third in the overall medal count, with 71 medals. Bermuda, the Philippines and Qatar won their first-ever Olympic gold medals. Burkina Faso, San Marino and Turkmenistan won their first-ever Olympic medals.\\n\\n\\n== Bidding process ==\\n\\nThe three candidate cities were Tokyo, Istanbul, and Madrid. The applicant cities of Baku and Doha were not promoted to candidate status. A bid from Rome was withdrawn.\\n\\n\\n=== Host city selection ===\\nThe International Olympic Committee (IOC) voted to select the host city of the 2020 Summer Olympics on 7 September 2013, at the 125th IOC Session in Buenos Aires, Argentina, using an exhaustive ballot system. None of the candidate cities won more than 50% of the votes in the first round; Madrid and Istanbul were tied for second place, so a runoff vote was held to determine which of the two cities would be eliminated. The final vote was a head-to-head contest between Tokyo and Istanbul. Tokyo was selected by 60 votes to 36, gaining at least the 49 votes required for a majority.\\n\\n\\n== Impact of the COVID-19 pandemic ==\\n\\nIn January 2020, concerns were raised about the potential impact of the COVID-19 pandemic on athletes and visitors to the Olympic Games. Tokyo organizers and the International Olympic Committee insisted they were monitoring the spread of the disease to minimize its effects on preparations for the Olympics. The IOC stated that in 2020, their Japanese partners and Prime Minister Shinzo Abe \"made it very clear that Japan could not manage a postponement beyond next summer [2021] at the latest\". Unlike the case for Zika virus during the 2016 Summer Olympics in Rio de Janeiro, SARS-CoV-2 can be transmitted directly between humans, posing tougher challenges for the organizers to counteract the infectious disease and host a safe and secure event. Also unlike the case for H1N1 \"swine flu\" during the 2010 Winter Olympics in Vancouver, COVID-19 has a higher fatality rate, and there was no effective vaccine until December 2020. In a February 2020 interview, Conservative London mayoral candidate Shaun Bailey argued that London would be able to host the Olympic Games at the former 2012 Olympic venues should the Games need to be moved because of the COVID-19 pandemic. Tokyo Governor Yuriko Koike criticized Bailey\\'s comment as inappropriate. In early 2021, officials in the U.S. state of Florida offered to host the delayed Games in their state, while John Coates, the IOC vice president in charge of the Tokyo Olympics, said the Games would open even if the city and other parts of Japan were under a state of emergency because of COVID-19.Estimates by the National Institute of Infectious Diseases and Kyoto University predicted that states of emergency might be required during the Games. The reports published at the Ministry of Health experts\\' panel also showed new patients increasing to 10,000 if the Games were to allow spectators.\\n\\n\\n=== Qualifying event cancellation and postponement ===\\nConcerns about the pandemic began to affect qualifying events in early 2020. Some that were due to take place in February were moved to alternative locations to address concerns about travelling to the affected areas, particularly China. For example, the women\\'s basketball qualification was played in Belgrade, Serbia, instead of Foshan, China. The Asia & Oceania boxing qualification tournament, which was originally planned to be held from 3–14 February in Wuhan, China (the location of the original outbreak of the COVID-19 pandemic), instead took place in Amman, Jordan, at the beginning of March. The third round of the women\\'s football qualification tournament was also affected, as the group matches formerly scheduled to be held in China were moved to Australia. The European boxing qualification began on 14 March 2020 in London, United Kingdom, but was suspended after two days of competition before being rescheduled for April 2021. It eventually resumed in June 2021 but was moved to Paris, France, because of renewed concerns over travel to the United Kingdom. Other qualifying events that were due to take place in March to June 2020 began to be postponed until later in the year and mid-2021 as part of a wider suspension of international sporting competitions in response to the pandemic. A multitude of Olympic sports were affected, including archery, baseball, cycling, handball, judo, rowing, sailing, volleyball, and water polo.\\n\\n\\n=== Effect on doping tests ===\\nMandatory doping tests were being severely restricted by the COVID-19 pandemic in early 2020. European anti-doping organizations raised concerns that blood and urine tests could not be performed and that mobilizing the staff necessary to do so before the end of the pandemic would be a health risk. Despite the need for extensive testing to take place in advance of the Games, the World Anti-Doping Agency (WADA) stated that public health and safety were their topmost priorities. The Chinese anti-doping agency temporarily ceased testing on 3 February 2020, with a planned resumption of phased testing towards the end of the month, and the anti-doping organizations in the United States, France, Great Britain, and Germany had reduced their testing activities by the end of March.\\n\\n\\n=== Postponement to 2021 ===\\nThe Tokyo Organizing Committee of the Olympic and Paralympic Games (TOCOG) released a statement on 2 March 2020, confirming that preparations for the upcoming Tokyo Olympics were \"continuing as planned\". On 23 March, both Canada and Australia indicated that they would withdraw from the Games if they were not postponed by a year. On the same day, Japanese prime minister Shinzo Abe stated he would support a proposed postponement, citing that ensuring athlete safety was \"paramount,\" and veteran IOC member and former vice president Dick Pound said that he expected the Games to be postponed.On 24 March 2020, 122 days to go for the planned start, the IOC, TOCOG and prime minister Abe released a joint statement announcing that the 2020 Summer Olympics and Paralympics would be rescheduled to a date \"beyond 2020 but not later than summer 2021\". They stated that the Games could \"stand as a beacon of hope to the world during these troubled times\", and that the Olympic flame could become \"the light at the end of the tunnel in which the world finds itself at present\". Prime Minister Abe stated that IOC president Thomas Bach responded \"with 100% agreement\" to his proposal to delay the Games. For continuity and marketing purposes, it was agreed that the Games would still be branded as Tokyo 2020 despite the change in schedule.On 30 March 2020, the IOC and TOCOG announced that they had reached an agreement on the new dates for the 2020 Summer Olympics, which would now begin with the opening ceremony on 23 July 2021 and end with the closing ceremony on 8 August 2021, still to be held in Tokyo. The subsequent Winter Olympics in Beijing are scheduled to begin on 4 February 2022, less than six months later. Shortly before the postponement was confirmed, the IOC and Tokyo 2020 organizers formed a task force named \"Here We Go\" with the remit to address any issues arising from postponing the Games, such as sponsorship and accommodation. The organizers confirmed that all athletes who had already qualified for Tokyo 2020 would keep their qualification slots.\\n\\n\\n=== Calls for cancellation ===\\nHealth experts expressed concern in April 2020 that the Games might have to be cancelled if the pandemic should persist. In an interview, the then president of TOCOG and former Japanese prime minister, Yoshirō Mori, asserted that the Games would be \"scrapped\" if they could not go ahead in 2021. On 29 April 2020, Prime Minister Abe stated that the Games \"must be held in a way that shows the world has won its battle against the coronavirus pandemic\". Thomas Bach acknowledged in an interview on 20 May 2020, that the job of reorganizing the Tokyo Games was \"a mammoth task\" and also admitted that the event would have to be cancelled altogether if it could not take place in the summer of 2021. However, both Mori and Bach expressed optimism about the Games going ahead.A member of the Japanese COVID-19 Advisory Committee on the basic action policy co-authored a British Medical Journal editorial, which stated, \"holding Tokyo 2020 for domestic political and economic purposes—ignoring scientific and moral imperatives—is contradictory to Japan\\'s commitment to global health and human security\".On 21 January 2021, multiple sources reported that the Japanese government had \"privately concluded\" that the Games would have to be cancelled. The government dismissed the claims, stating that the reports were \"categorically untrue\". The new Japanese prime minister Yoshihide Suga confirmed on 19 February that the G7 had given unanimous support for the postponed Games to go ahead as scheduled. It was reported in April 2021, just three months before the start of the Games, that there was still the option to cancel the Tokyo Olympics with the country having vaccinated less than 1% of its population, with tens of thousands of volunteers expected to take part and athletes not being required to quarantine after arriving in Japan.Public support for the Games in Japan decreased significantly amid a 2021 surge in COVID-19 cases in the country. Multiple organizations of medical professionals voiced oppositions to the Games, while an opinion poll in April 2021 saw 40% of participants support the cancellation of the Games, and 33% support a second postponement. In May 2021, 83% of those polled supported the cancellation or postponement of the Games. The Tokyo Medical Practitioners Association called for the cancellation, stating that hospitals in Tokyo \"have their hands full and have almost no spare capacity\" in an open letter to the prime minister. At least nine out of 47 elected governors supported the cancellation of the Games. Nearly 37% of Japanese companies surveyed supported the cancellation of the Games, and 32% supported postponement.Kenji Utsunomiya, who had previously run for Governor of Tokyo, collected more than 351,000 signatures on a petition calling for the organisers to \"prioritise life\" over the Olympics. Japanese writers Jiro Akagawa and Fuminori Nakamura also called for the Games to be postponed or cancelled.On 26 May 2021, the Asahi Shimbun newspaper, which was a local sponsor of the Games, published an editorial calling for Prime Minister Suga to \"calmly and objectively assess the situation and decide on the cancellation of the event this summer.\" On 4 June it was reported that Japanese sponsors proposed to the organisers for \"the Games to be postponed for several months,\" citing a comment by a corporate sponsor senior executive: \"It just makes much, much more sense from our perspective to hold the Games when there are more vaccinated people, the weather is cooler and maybe public opposition is lower.\"In July 2021, it was announced that all events in Tokyo were to be held behind closed doors with no spectators due to a new state of emergency. A poll by the Asahi Shimbun found that 55% of those surveyed supported the cancellation of the Olympics, and 68% felt that organisers would not be able to suitably control COVID-19 at the Games. The decision was also detrimental to local sponsors, which had planned in-person presences to promote their products during the Games; an executive of official sponsor Toyota stated that the company had pulled a television advertising campaign it had planned for the Games in Japan, citing that the Olympics were \"becoming an event that has not gained the public\\'s understanding.\"Had the games been cancelled, it would have been the first time since World War II that an Olympic event had been called off and the first games to be scrapped due to circumstances unrelated to war. A complete cancellation would have also cost Japan ¥4.52 trillion (US$41.5 billion), based on operating expenses and loss of tourism activity.\\n\\n\\n=== Costs and insurance ===\\nAccording to an estimate conducted by professor emeritus Katsuhiro Miyamoto of Kansai University and reported by the NHK in March 2020, the cost of delaying the 2020 Olympics by one year would be 640.8 billion yen (US$5.8 billion), taking maintenance expenditures for the unused facilities into account.The Nomura Research Institute estimated that cancelling the Tokyo Olympics and Paralympics in 2021 would cost around 1.81 trillion yen ($17 billion), less than the economic damages projected if another state of emergency is declared, noting that a decision to hold the games \"should be made based on the impact on infection risks, not from the standpoint of economic loss\".The Tokyo Games were protected through the commercial insurance marketplace Lloyd\\'s of London, by global reinsurers Munich Re and Swiss Re. The IOC takes out around $800 million of insurance for each Summer Olympics, with the total amount of loss insured for the 2020 Games likely to be more than $2 billion. The disruption caused by postponing the Games was covered by the insurance policy, with those likely to make claims for their financial losses including local organizers, sponsors, hospitality firms, and travel providers.Holders of tickets purchased from overseas prior to postponement were entitled to refunds for both Olympic and Paralympic ticket purchases, except for the costs of cancelled hotel bookings. Although about 600,000 Olympic tickets and 300,000 Paralympic tickets were eligible to be refunded, organizers said that they would not release the total costs of the refunds. Reuters quoted industry sources who estimated that the Tokyo Olympics Committee had taken out US$500–800 million in insurance, and that after accounting for costs such as rebooking sporting venues and the Olympic Village, little of that payout would be available to recoup the proceeds of lost and refunded ticket sales. The local organizers are responsible for ticket sales and use them to defray the costs of holding the games; ticket sales were expected to bring in approximately US$800 million, but actual sales were close to zero.In June 2022, the Tokyo Organizing Committee revealed in the final budget report for the Tokyo Olympics and Paralympics that the cost for the Olympic Games was 640.4 billion yen (US$5.8 billion ), which higher than the cost for the Rio 2016.\\n\\n\\n=== Public opinion and COVID-19 effect during and after the Games ===\\nPrior to the Tokyo Olympics being held, many Japanese people were negative about hosting the event, but their attitudes had become more positive towards the end of the Games. According to a public opinion poll conducted jointly by the Nippon News Network and the Yomiuri Shimbun newspaper, which targeted Japanese citizens at the end of the Olympics, 38% of respondents said that it was possible to hold the Olympics in a safe manner against COVID-19, while 55% said that it was not possible. However, 64% answered that it was good that the Tokyo Games had gone ahead, while 28% answered that they wished the event had not been held. Of the respondents, 61% were glad the event had been held without spectators and only 12% said that spectators should have been allowed.On 29 July, less than a week into the Games, journalist Masaki Kubota reported his analysis of the Japanese people\\'s perspective on the Olympics, which he believed was greatly influenced by the change in the way the Japanese news media reported on the Games. He pointed out that many Japanese news media had insisted on canceling the Olympics, citing fears that COVID-19 would spread, but once Japanese athletes started winning medals, the media changed their reporting policy and began livening up the Olympics, which had the effect of altering public opinion in Japan.Once the Tokyo Olympics were underway, followed by the Tokyo Paralympics, there was a sharp increase in COVID-19 cases in Japan, especially those caused by the Delta variant. On 26 July, there were 60,157 cases detected in Japan, breaking the record of 44,961 cases recorded on 10 May. On 9 August, one day after the Olympics had ended, daily cases in Japan reached 100,000 for the first time, and new cases continued to increase until the peak on 23 August, when 156,931 cases were recorded.\\n\\n\\n== Development and preparation ==\\n\\nThe Tokyo Organizing Committee was originally headed by former Japanese prime minister Yoshirō Mori, but he resigned in February 2021 due to backlash from sexist comments about women in meetings. Seiko Hashimoto was chosen to succeed him. Tamayo Marukawa, Minister for the Tokyo Olympic and Paralympic Games, was responsible for overseeing the preparations on behalf of the Japanese government.The Tokyo Metropolitan Government set aside a fund of ¥400 billion (more than US$3.67 billion) to cover the cost of hosting the Games. The Japanese government was considering easing airspace restrictions to allow an increased slot capacity at both Haneda and Narita airports. A new railway line was planned to link both airports through an expansion of Tokyo Station, cutting travel time from Tokyo Station to Haneda from 30 minutes to 18 minutes, and from Tokyo Station to Narita from 55 minutes to 36 minutes; funded primarily by private investors, the line would cost ¥400 billion. The East Japan Railway Company (JR East) was also planning a new route near Tamachi to Haneda Airport.There were plans to fund the accelerated completion of the Central Circular Route, Tokyo Gaikan Expressway, and Ken-Ō Expressway, and the refurbishment of other major expressways in the area. The Yurikamome automated transit line was also to be extended from its existing terminal at Toyosu Station to a new terminal at Kachidoki Station, passing the site of the Olympic Village, although the line was not expected to have adequate capacity to serve major events in the Odaiba area on its own.In April 2018, the Tokyo Organizing Committee signed a partnership with the International Labour Organization to ensure decent work in the preparation of and during the 2020 Olympic Games.In June 2020, the chief executive of the Organizing Committee, Toshirō Mutō, stated that the committee was exploring options for streamlining the Games to achieve cost savings. On 25 September, the IOC and Tokyo Organizing Committee agreed to a suite of measures to simplify the Games\\' logistics, including a cut to non-athlete staff, use of online meetings, and streamlined transport, among others. The committee also outlined areas it would be exploring in order to maintain the health and safety of all participants.\\n\\n\\n=== Venues and infrastructure ===\\n\\nIn February 2012, it was announced that Tokyo\\'s former National Stadium, the central venue for the 1964 Summer Olympics, would undergo a ¥100 billion renovation for the 2019 Rugby World Cup and the 2020 Summer Olympics. In November 2012, the Japan Sport Council announced that it was taking bids for proposed stadium designs. Of the 46 finalists, Zaha Hadid Architects was awarded the project, which would replace the old stadium with a new 80,000-seat stadium. There was criticism of the Zaha Hadid design—which was compared to a bicycle helmet and regarded as clashing with the surrounding Meiji Shrine—and widespread disapproval of the costs, even with attempts to revise and \"optimize\" the design.In June 2015, the government announced plans to reduce the new stadium\\'s permanent capacity to 65,000 in its athletics configuration (although with the option to add up to 15,000 temporary seats for football) as a further cost-saving measure. The original plan to build a retractable roof was also abandoned. At the end of 2015, as a result of public opposition to the increasing costs of the new stadium (which had reached ¥252 billion), the government chose to reject Zaha Hadid\\'s design entirely and selected a new design by Japanese architect Kengo Kuma. Inspired by traditional temples and with a lower profile, Kuma\\'s design had a budget of ¥149 billion. The changes meant the new stadium could not be completed in time for the 2019 Rugby World Cup as originally intended. The National Stadium, which was inaugurated on 21 December 2019, was named the Olympic Stadium for the duration of the Tokyo Games.In October 2018, the Board of Audit issued a report stating that the total cost of the Olympic venues could exceed US$25 billion.Of the 33 competition venues in Tokyo, 28 were within 8 kilometers (5 miles) of the Olympic Village, with eleven new venues to be constructed. On 16 October 2019, the IOC announced that there were plans to re-locate the marathon and racewalking events to Sapporo for heat concerns. The plans were made official on 1 November 2019 after Tokyo Governor Yuriko Koike accepted the IOC\\'s decision, despite her belief that the events should have remained in Tokyo.\\n\\n\\n=== Security ===\\n\\nIn December 2018, the Japanese government chose to ban drones from flying over venues being used for the Olympic and Paralympic Games. A similar ban was also imposed for the 2019 Rugby World Cup, which Japan also hosted. In January 2020, counterterrorism drills began in different parts where the Games would take place, after intelligence data showed that terrorist groups could have carried out an attack seeking worldwide attention. In July 2021, prior to the start of the Games, the Japan Coast Guard conducted counterterrorism drills in the Tokyo Bay. The drill consisted of two inflatable boats trying to stop a suspicious ship from getting to shore.\\n\\n\\n=== Volunteers ===\\nApplications for volunteering at the 2020 Olympic and Paralympic Games were accepted beginning on 26 September 2018. By 18 January 2019, a total of 204,680 applications had been received by the Tokyo Organizing Committee. Interviews to select the requisite number of volunteers began in February 2019, with training scheduled to take place in October 2019. The volunteers at the venues were to be known as \"Field Cast\", and the volunteers in the city were to be known as \"City Cast\". These names were chosen from a shortlist of four from an original 150 pairs of names; the other three shortlisted names were \"Shining Blue\" and \"Shining Blue Tokyo\", \"Games Anchor\" and \"City Anchor\", and \"Games Force\" and \"City Force\". The names were chosen by the people who had applied to be volunteers at the Games.As of early June 2021, approximately 10,000 out of the 80,000 registered volunteers resigned from the Games. Media attributed the rise in pandemic cases as the reason for massive quitting. More volunteer assignments were expected to be cancelled due to the spectator ban.\\n\\n\\n=== Medals ===\\n\\nIn February 2017, the Tokyo Organizing Committee announced an electronics recycling program in partnership with Japan Environmental Sanitation Center and NTT Docomo, soliciting donations of electronics such as mobile phones to be reclaimed as materials for the medals. Aiming to collect eight tonnes of metals to produce the medals for the Olympic and Paralympic Games, collection boxes were deployed at public locations and NTT Docomo retail shops in April 2017. A design competition for the medals was launched in December of that year.In May 2018, the organizing committee reported that they had obtained half the required 2,700 kilograms of bronze but were struggling to obtain the required amount of silver; although bronze and silver medals purely utilize their respective materials, IOC requirements mandate that gold medals utilize silver as a base. The collection of bronze was completed in November 2018, with the remainder estimated to have been completed by March 2019.On 24 July 2019 (one year ahead of the originally scheduled opening ceremony), the designs of the medals were unveiled. The medals for the Olympic and Paralympic Games were designed by Junichi Kawanishi following a nationwide competition. A new feature shared with the Paralympic medals is that the ribbons contain one, two, or three silicone convex lines to distinguish gold, silver, and bronze medals, respectively.\\n\\n\\n=== Torch relay ===\\n\\nThe slogan of the 2020 Summer Olympics torch relay was \"Hope Lights Our Way\".As determined by a 2009 IOC ruling that banned international torch relays for any future Olympic Games, the 2020 Summer Olympics torch was scheduled to only visit the two countries of Greece and the host nation Japan. The first phase of the relay began on 12 March 2020, with the traditional flame lighting ceremony at the Temple of Hera in Olympia, Greece. The torch then travelled to Athens, where the Greek leg of the relay culminated in a handover ceremony at the Panathenaic Stadium on 19 March, during which the torch was transferred to the Japanese contingent. The flame was placed inside a special lantern and transported from Athens International Airport on a chartered flight to Higashimatsushima in Japan. The torch was then expected to begin the second phase of its journey on 20 March, as it traveled for one week around the three most affected areas of the 2011 Tōhoku earthquake and tsunami—Miyagi, Iwate and Fukushima—where it would go on display under the heading \"Flame of Recovery\". After leaving Naraha on 26 March, the torch would commence its main relay around Japan, incorporating all 47 prefectural capitals.After the decision to postpone the Games was made, the torch was placed again in a special lantern on display in the city of Fukushima for a month. After that, the lantern was transferred to the Tokyo prefecture, where it was kept safe until the restart of the relay in 2021. On 23 July 2020 (one year ahead of the rescheduled opening ceremony), a promotional video was released featuring Japanese swimmer Rikako Ikee carrying the lantern inside Japan National Stadium, drawing comparisons between emergence from the pandemic and her own return to sport after being diagnosed with leukemia. On 20 August 2020, it was announced that the torch relay would begin again in Naraha, Fukushima on 25 March 2021, nearly a year later than originally planned.The relay ended at Tokyo\\'s National Stadium (Olympic Stadium) on 23 July, with tennis player Naomi Osaka lighting the Olympic cauldron at the finale of the opening ceremony. The cauldron lit in the Olympic Stadium was only used during the Opening and Closing ceremonies: a separate cauldron was lit on the Tokyo waterfront for public view at the Yume no Ohashi bridge in Odaiba, making it only the second time in olympic history where the cauldron was not displayed in the athletics stadium, the other time being in 2016.\\n\\n\\n=== Biosecurity protocols ===\\n\\nIn February 2021, the IOC began releasing \"playbooks\" containing details on planned COVID-19 biosecurity protocols for athletes, officials, the press, and other staff, including standard protocols such as practicing social distancing, hygiene, the wearing of face masks (outside of training and competition for athletes), and being restricted from visiting bars, restaurants, shops, and other tourist areas around Greater Tokyo Area, or using public transport unless otherwise permitted. Participants would be asked to use Japan\\'s COCOA Exposure Notification app and would be tested at least every four days. Athletes who tested positive would be unable to compete and could be quarantined at a government facility (although leeway would be given in the event of false positives). Close contacts would also need to test negative in order to be cleared for competition. Athletes would be discouraged from \"excessive\" celebrations because the actions could spread infected droplets. The playbooks were criticized in a paper published by The New England Journal of Medicine in May 2021, for lacking \"scientifically rigorous risk assessment\" and failing to \"distinguish the various levels of risk faced by athletes\". The playbook stated that the athletes were required to arrive up to five days prior to the start of the competition and to leave within 48 hours of being eliminated from their sport or the conclusion of the competitions.The IOC recommended the vaccination of athletes against COVID-19 if vaccines were available to them, but this was not a prerequisite for participation and the IOC advised against athletes \"jumping the queue\" in order to obtain priority over essential populations. On 12 March 2021, Thomas Bach announced that in nations where they were approved for use, the Chinese Olympic Committee had offered to cover the costs of the Chinese CoronaVac and the Sinopharm BIBP vaccine for athletes competing in the 2020 Summer Olympics and 2022 Winter Olympics, and would purchase two doses for their nation\\'s general public for each vaccinated athlete. On 6 May 2021, Pfizer announced that it would donate doses of its vaccine to NOCs competing in Tokyo.Approximately 93,000 athletes and officials were exempt from the quarantine rules upon arriving in Japan, provided that they remained in areas separated from the local population. With around 300,000 local staff and volunteers entering and exiting these bubbles, and 20,000 vaccine doses allocated for this group, this led to concerns of COVID-19 spreading both during the Games and when teams returned to their countries.Due to international travel restrictions, the organizing committee announced in March 2021 that no international guests (including spectators, and friends and family members of the athletes) would be allowed to attend the Games. As per existing guidance for spectator sports in Japan, spectators would be asked to refrain from cheering or shouting. On 19 June 2021, Governor Koike announced that plans for public viewing events for the Games had been scrapped, in order to use the planned venues (such as Yoyogi Park) as mass vaccination sites instead. On 21 June, it was announced that all venues would be capped at a maximum of 10,000 ticketed spectators or 50% capacity, whichever was lower.On 2 July 2021, the new TOCOG president Seiko Hashimoto warned that there was still a possibility of the Games being held behind closed doors because of rising COVID-19 cases in the country. Japan\\'s slow vaccination rate had been of particular concern. A simulation run by the University of Tokyo in May 2021 projected that a new wave of infections could peak in mid-October if the Games went on after the existing state of emergency in Tokyo had expired.On 8 July 2021, after Tokyo had recorded 920 new COVID-19 cases (its highest increase since May), Prime Minister Suga declared a new state of emergency in the Tokyo area from 12 July through 22 August (ending only two days before the Paralympics\\' opening ceremony), and announced that all events at venues in the area would therefore be held behind closed doors with no spectators permitted. Hashimoto stated that \"it is extremely regrettable that the Games will be staged in a very limited manner in the face of the spread of novel coronavirus infections.\" IOC President Thomas Bach stated that \"we will support any measure which is necessary to have a safe and secure Olympic and Paralympic Games for the Japanese people and all the participants.\"The announcement stated that spectators would still be allowed at events being held outside of Tokyo, subject to the approval by local health authorities and the aforementioned 50%/10,000-spectator limit. The prefectures of Fukushima, Hokkaido and Ibaraki announced that they would prohibit spectators at events held in the areas. The opening ceremony was expected to be limited to fewer than 1,000 VIP guests, including IOC representatives and dignitaries, while some events did allow members of other competing delegations to occupy spectator seats as well. School students were invited to watch football matches in Ibaraki.On 16 July, it was reported that Bach had asked Prime Minister Suga about the possibility that restrictions on spectators could be eased later on if COVID-19 conditions were to improve in Tokyo. However, on 2 August, Suga announced that all existing state of emergency declarations would be extended through 31 August, and be extended to Chiba, Kanagawa, Saitama, and parts of Osaka.\\n\\n\\n=== Ticketing ===\\nThe opening ceremony tickets were expected to range from ¥12,000 to ¥300,000, with a maximum price of ¥130,000 for the finals of the athletics track and field events. The average ticket price was ¥7,700, with half the tickets being sold for up to ¥8,000. A symbolic ticket price of ¥2,020 was expected for families, groups resident in Japan, and in conjunction with a school program. Tickets would be sold through 40,000 shops in Japan and by mail order to Japanese addresses through the internet. International guests, had they been allowed, would have needed to visit Japan during the sales period, or arrange to buy tickets through a third party such as a travel agent.Tickets went on general sale in Japan in the autumn of 2019 and were expected to be sold globally from June 2020; however, this plan was suspended when the Games were postponed on 24 March 2020. The Tokyo Organizing Committee confirmed that tickets already purchased would remain valid for the same sessions according to the new schedule and that refunds were also being offered.On 20 March 2021, it was announced that due to COVID-19-related concerns, no international guests would be allowed to attend the 2020 Olympics or Paralympics. This included both spectators, as well as the friends and family of athletes. All overseas ticketholders would be refunded. Hashimoto cited uncertainties surrounding international travel restrictions, and goals to preserve the safety of all participants and spectators, and not place a burden on the health care system. It was ultimately announced in July that all local spectators were not allowed to attend any events held in Tokyo, Fukushima and Hokkaido.\\n\\n\\n=== Cultural festival ===\\nA cultural program known as Nippon Festival was scheduled to coincide with the Olympics and Paralympics, running from April to September 2021 as a series of streaming events held by the Tokyo Organizing Committee and other partners. The events reflected the themes of \"Participation and Interaction\", \"Towards the Realisation of an Inclusive Society\" and \"Reconstruction of the Tohoku Region\". The program was either downsized or reformatted to virtual format due to the COVID-19 pandemic and the postponement of the Games. One of these events was a concert held on 18 July, which featured J-rock band Wanima, choreography by dancers Aio Yamada and Tuki Takamura, and the presentation of animated \"creatures\" based on illustrations \"embodying the thoughts and emotions of people from across the world\".The original plans for Nippon Festival included events such as Kabuki x Opera (a concert that would have featured stage actor Ichikawa Ebizō XI, opera singers Anna Pirozzi and Erwin Schrott, and the Tokyo Philharmonic Orchestra), an arts and culture festival focusing on disabilities, and a special two-day exhibition sumo tournament at the Ryōgoku Kokugikan shortly after the Olympics—which would have differed significantly from the traditional bi-monthly Honbasho tournaments, and featured special commentary in English and Japanese to help explain to spectators the customs and traditions of professional sumo, which are deeply rooted in the Shinto religion.\\n\\n\\n== The Games ==\\n\\n\\n=== Opening ceremony ===\\n\\nThe opening ceremony was held on 23 July 2021 in the Olympic Stadium in Tokyo. It included the traditional Parade of Nations. Emperor Naruhito formally opened the Games, and at the end of the torch relay the Olympic cauldron was lit by Japanese tennis player Naomi Osaka.For the first time in the 2020 Olympic Games, it was decided that one male and one female in each country would take turns holding flags and serve as two of them. \\nThis was done by embodying the \"Agenda 2020\" set during President Bach\\'s term.For the first time in the history of the games, a moment of silence was observed in the opening ceremony for the victims of the Munich massacre.\\n\\n\\n=== Sports ===\\n\\nThe event program for the 2020 Summer Olympics was approved by the IOC executive board on 9 June 2017. IOC president Thomas Bach stated that their goal was to give the Games \"youthful\" and \"urban\" appeal, and to increase the number of female participants.The Games featured 339 events in 33 different sports, encompassing a total of 50 disciplines. Karate, sport climbing, surfing, and skateboarding made their Olympic debut, while baseball and softball also made a one-off return to the Summer Olympics for the first time since 2008. 15 new events within existing sports were also added, including 3×3 basketball, freestyle BMX, and the return of madison cycling, as well as 9 new mixed events in several sports (table tennis, archery, judo, shooting (3), triathlon, 4 × 400 m relay running and 4 × 100 m medley swimming).In the list below, the number of events in each discipline is noted in parentheses.\\n\\n\\n==== New sports ====\\nOn 12 February 2013, with a remit to control the cost of the Games and ensure they are \"relevant to sports fans of all generations\", the IOC Executive Board recommended the removal of one of the 26 sports contested at the 2012 Summer Olympics, leaving a vacancy which the IOC would seek to fill at the 125th IOC Session. The new entrant would join golf and rugby sevens (which would both debut in 2016) as part of the program of 28 \"core\" sports. Five sports were shortlisted for removal, including canoe, field hockey, modern pentathlon, taekwondo, and wrestling. In the final round of voting by the executive board, eight members voted to remove wrestling from the Olympic program. Hockey and taekwondo were both tied in second with three votes each.The decision to drop wrestling surprised many media outlets, given that the sport\\'s role in the Olympics dates back to the ancient Olympic Games, and was included in the original program for the modern Games. The New York Times felt that the decision was based on the shortage of well-known talent and the absence of women\\'s events in the sport. Out of the shortlist from the IOC vote, Wrestling was duly added to the shortlist of applicants for inclusion in the 2020 Games, alongside the seven new sports that were put forward for consideration.On 29 May 2013, it was announced that three of the eight sports under consideration had made the final shortlist: baseball/softball, squash and wrestling. The other five sports were rejected at this point: karate, roller sports, sport climbing, wakeboarding, and wushu. At the 125th IOC Session on 8 September 2013, wrestling was chosen to be included in the Olympic program for 2020 and 2024. Wrestling secured 49 votes, while baseball/softball and squash received 24 votes and 22 votes respectively.With the adoption of the Olympic Agenda 2020 in December 2014, the IOC shifted from a \"sport-based\" approach to the Olympic program to an \"event-based\" program—establishing that organizing committees may propose discretionary events to be included in the program to improve local interest. As a result of these changes, a shortlist of eight new proposed sports was unveiled on 22 June 2015, consisting of baseball/softball, bowling, karate, roller sports, sport climbing, squash, surfing, and wushu. On 28 September 2015, the Tokyo Organizing Committee submitted their shortlist of five proposed sports to the IOC: baseball/softball, karate, sport climbing, surfing, and skateboarding. These five new sports were approved on 3 August 2016 by the IOC during the 129th IOC Session in Rio de Janeiro, Brazil, and were included in the sports program for 2020 only, bringing the total number of sports at the 2020 Olympics to 33.\\n\\n\\n=== Test events ===\\nA total of 56 test events were scheduled to take place in the run-up to the 2020 Olympics and Paralympics. Two of the events were held in late 2018, but the main test event schedule commenced in June 2019 and was originally due to be completed in May 2020 prior to the start of the Olympics. Several of the events were incorporated into pre-existing championships, but some have been newly created specifically to serve as Olympic test events for the 2020 Summer Games.In February 2019, it was announced that the test events would be branded under the banner \"Ready, Steady, Tokyo\". The Tokyo Organizing Committee is responsible for 22 of the test events, with the remaining events being arranged by national and international sports federations. The first test event was World Sailing\\'s World Cup Series, held at Enoshima in September 2018. The last scheduled event is the Tokyo Challenge Track Meet, which was originally due to take place at the Olympic Stadium on 6 May 2020.All test events originally scheduled to take place from 12 March 2020 onwards were postponed due to COVID-19, with the test event calendar to be reviewed during the preparations for the rescheduled Games.\\n\\n\\n== Participating National Olympic Committees ==\\n\\nThe Republic of Macedonia has competed under the provisional name \"Former Yugoslav Republic of Macedonia\" in every Summer and Winter Games since its debut in 1996 because of the disputed status of its official name. The naming disputes with Greece ended in 2018 with the signing of the Prespa agreement, and the country was officially renamed North Macedonia in February 2019. The new name was immediately recognized by the IOC, although the Olympic Committee of North Macedonia (NMOC) was not officially adopted until February 2020. The NMOC sent a delegation to the 2020 Winter Youth Olympics in January 2020, but the Tokyo Games were North Macedonia\\'s first appearance at the Summer Olympics under its new name.Since competing as Swaziland ten times at the Summer and Winter Olympics, Eswatini made its debut under that name after the renaming of the country by the king in 2018.On 9 December 2019, the World Anti-Doping Agency (WADA) banned Russia from all international sport for a period of four years, after the Russian government was found to have tampered with laboratory data that it had provided to WADA in January 2019 as a condition of the Russian Anti-Doping Agency being reinstated. As a result of the ban, WADA planned to allow individually cleared Russian athletes to take part in the 2020 Summer Olympics under a neutral banner, as instigated at the 2018 Winter Olympics, but they would be excluded from team sports. The head of WADA\\'s Compliance Review Committee, Jonathan Taylor, stated that the IOC would not be able to use the \"Olympic Athletes from Russia\" (OAR) designation as it did in 2018, emphasizing that neutral athletes could not be portrayed as representing a specific country. Russia later filed an appeal to the Court of Arbitration for Sport (CAS) against WADA\\'s decision. After reviewing the case on appeal, CAS ruled on 17 December 2020 that the penalty placed on Russia be reduced. Instead of a total ban from all sporting events, the ruling allowed Russia to participate at the Olympics and other international events, but the team would not be permitted to use the Russian name, flag, or anthem for a period of two years and must present themselves as \"Neutral Athlete\" or \"Neutral Team\". The ruling does allow for \"Russia\" to be displayed on the team uniform—although it should be no more visible than the \"Neutral Athlete/Team\" designation—as well as the use of the Russian flag\\'s colors within the uniform\\'s design.On 19 February 2021, it was announced that Russia would compete under the acronym \"ROC\" after the name of the Russian Olympic Committee although the name of the committee itself in full could not be used to refer to the delegation. The ROC team would be represented by the flag of the Russian Olympic Committee.\\nOn 6 April 2021, North Korea announced that it would not participate in the 2020 Summer Olympics because of COVID-19 concerns. This marked North Korea\\'s first absence from the Summer Olympics since 1988. In September, a month after the games concluded, the Olympic Committee of the Democratic People\\'s Republic of Korea was banned from participation in the 2022 Winter Olympics, after they failed to participate in the Tokyo Olympics. On 21 July 2021, Guinea announced it would not be sending a delegation to the Tokyo Olympics, allegedly due to COVID-19 concerns, though media outlets suggested that financial considerations may have been the real motivating factor. Guinea later reversed the decision and confirmed that it would be participating.\\n\\nThe following 206 teams qualified (including the 104 universality places guaranteed in athletics, under which all 206 NOCs may send competitors regardless of qualification).\\n\\n\\n=== Number of athletes by National Olympic Committee ===\\n11,420 athletes from 206 NOCs:\\n\\n\\n== Medal summary ==\\n\\n  *   Host nation (Japan)\\n\\n\\n=== Podium sweeps ===\\nThere were two podium sweeps, as follows:\\n\\n\\n=== Medal ceremonies ===\\nNaoki Satō composed the music for the medal ceremonies. Satō chose not to employ any musical elements distinctive to Japan \"because victory ceremonies are for athletes from around the world\" and he wanted all medalists to \"feel at ease\" when taking their places on the podium, regardless of their nationality.The bouquets presented to the athletes came from regions affected by the 2011 earthquake and tsunami. The individual flowers were selected to represent the prefectures of Miyagi, Fukushima, Iwate, and Tokyo. The sunflowers were grown in Miyagi, planted by families whose children had died during the disaster; the white and purple eustomas and Solomon\\'s seals were provided by a non-profit initiative to boost the local economy in Fukushima; the small bright blue gentians were grown in Iwate; and aspidistras, grown in Tokyo, were chosen to complete the bouquets.\\n\\n\\n== Calendar ==\\n\\nThe 2020 schedule by session was approved by the IOC Executive Board on 18 July 2018, with the exception of swimming, diving, and artistic swimming. A more detailed schedule by event was released on 16 April 2019, still omitting a detailed schedule for the boxing events. A detailed boxing schedule was released in late 2019.The original schedule was from 22 July to 9 August 2020. To postpone the Olympics until 2021, all events were delayed by 364 days (one day less than a full year to preserve the same days of the week), giving a new schedule of 21 July to 8 August 2021.\\nAll times and dates use Japan Standard Time (UTC+9)\\n\\n\\n=== Event scheduling ===\\nPer the historical precedent of swimming at the 2008 Summer Olympics in Beijing and figure skating at the 2018 Winter Olympics in Pyeongchang, swimming finals were held in the morning to allow live primetime broadcasts in the Americas. NBC paid substantial fees for rights to the Olympics, so the IOC has allowed NBC to influence event scheduling to maximize U.S. television ratings when possible. On 7 May 2014, NBC agreed to a US$7.75 billion contract extension to air the Olympics through the 2032 games, which is one of the IOC\\'s major sources of revenue. Japanese broadcasters were said to have criticized the decision, as swimming is one of the most popular Olympic events in the country.\\n\\n\\n== Marketing ==\\n\\nThe official emblems for the 2020 Olympics and Paralympics were unveiled on 25 April 2016; designed by Asao Tokolo, who won a nationwide design contest, it takes the form of a ring in an indigo-colored checkerboard pattern. The design was meant to \"express a refined elegance and sophistication that exemplifies Japan\". The checkered design resembles a pattern called ichimatsu moyo that was popular during the Edo period in Japan from 1603 to 1867. The designs replaced a previous emblem which had been scrapped after allegations that it plagiarized the logo of the Théâtre de Liège in Belgium. The Games\\' bid slogan was Discover Tomorrow (Japanese: 未来（あした）をつかもう, romanized: Ashita o tsukamō). While ashita literally means \"tomorrow\", it is intentionally spelled as mirai, \"future\". The official slogan United by Emotion was unveiled on 17 February 2020. The slogan was used solely in English.The official mascot of the 2020 Summer Olympics was Miraitowa, a figure with blue-checkered ichimatsu moyo patterns inspired by the Games\\' official emblem. Its fictional characteristics include the ability to teleport. Created by Japanese artist Ryo Taniguchi, the mascots were selected from a competition process which took place in late 2017 and early 2018. A total of 2,042 candidate designs were submitted to the Tokyo Organizing Committee, which selected three pairs of unnamed mascot designs to present to Japanese elementary school students for the final decision. The results of the selection were announced on 28 February 2018, and the mascots were named on 22 July 2018. Miraitowa is named after the Japanese words for \"future\" and \"eternity\", and Someity is named after someiyoshino, a type of cherry blossom. Someity\\'s name also refers to the English phrase \"so mighty\". The mascots were expected to help finance the Tokyo Games through merchandizing and licensing deals. For the legacy of the games on 3 January 2022, Ryo Taniguchi created Miraity (the future child of the mascots).\\n\\n\\n=== Look of the Games ===\\nAlongside the main Emblem blue, the five other colors used in the branding of the 2020 Games were : \\n  Kurenai red,   Ai blue,   Sakura pink,   Fuji purple, and   Matsuba green. These five traditional colors of Japan were used as sub-colors to create points of difference in the color variations.\\n\\n\\n== Concerns and controversies ==\\n\\nSeveral controversial issues occurred during the preparations for the Tokyo Games. There were allegations of bribery in the Japanese Olympic Committee\\'s (JOC) bid and of plagiarism in the initial design for the Games\\' logo. On 10 December 2018, the French financial crimes office began an investigation of Tsunekazu Takeda, the president of the Japanese Olympic Committee, concerning a 2013 scheme to obtain votes from African IOC members in support of Tokyo as host for the 2020 Olympics over Istanbul or Madrid. In March 2020, a Japanese businessman admitted to giving gifts, including cameras and watches, to IOC officials in order to lobby for their support of Tokyo\\'s bid to host the Olympic Games. The official emblems of the Tokyo Olympics and Paralympics, designed by Kenjirō Sano, were unveiled in July 2015 but were withdrawn and replaced following plagiarism accusations. The lawsuit by Olivier Debie, who claimed that his logo design was copied, was later dropped, with the designer citing escalating legal costs.Mass logging for construction of the Olympic venues received international criticism. Petitions, containing more than 140,000 signatures in total, were delivered to the Japanese embassies in Switzerland and Germany, expressing concerns over claims of using tropical wood sourced from Shin Yang, a Malaysian company with a record of human rights abuses, illegal logging, and rainforest destruction. In February 2018, the Olympics Organizing Committee admitted that 87% of plywood panels used to build the new national stadium was sourced from endangered rainforests.Portions of the Games were scheduled for locations impacted by the 2011 Tōhoku earthquake and tsunami, and the subsequent Fukushima Daiichi nuclear disaster. The hosting of events in these locations was promoted as a means of furthering recovery in the regions, with the Games sometimes being promoted as the \"Recovery Olympics\" (復興五輪, Fukkō Gorin). However, the organization of events in these regions has faced criticism; Fukushima is considered safe by the World Health Organization and the United Nations, although scientific studies on the safety of the area are still disputed. Some Tōhoku residents questioned the decision to use the region as a host site, arguing that preparations for the Games slowed down recovery efforts, and that the region lost workers to projects associated with the Games.It was widely reported by international media that South Korea had asked the IOC to ban the Japanese Rising Sun Flag from the 2020 Summer Olympics, claiming it to be a symbol of Japan\\'s imperialist past, recalling \"historic scars and pain\" for people of Korea just as the swastika \"reminds Europeans of the nightmare of World War II\". Use of the flag in international sporting events such as the Olympic Games is controversial because it was used for waging aggressive war against many countries in Pacific regions, including the Attack on Pearl Harbor. According to the Associated Press, the IOC issued a statement in response to South Korea\\'s request, saying, \"sports stadiums should be free of any political demonstration. When concerns arise at games time we look at them on a case by case basis.\" Russian and South Korean officials took issue with a map of the torch relay on the Games\\' official website, which depicted the disputed Liancourt Rocks (governed by South Korea) and Kuril Islands (governed by Russia since 1945) as part of Japan.In February 2021, the TOCOG president Yoshirō Mori resigned, after facing both domestic and international criticisms over his sexist remarks. The previous conduct of the new president, Seiko Hashimoto, has also drawn criticisms, leading her to comment \"I regret it and think I should be careful\" on one of the accusations. The head creative director for the opening and closing ceremonies, Hiroshi Sasaki, resigned in March 2021, after making demeaning comments about Naomi Watanabe. Sasaki\\'s replacement, Kentarō Kobayashi, was dismissed by the Organizing Committee the day before the opening ceremony, after it was reported by Japanese media that he had made a joke about the Holocaust in a script for his comedy in 1998, saying \"Let\\'s play Holocaust.\" On the eve of the opening ceremony, Yoshihide Suga, the Prime Minister of Japan and the Supreme Advisor of the Organizing Committee, described Kobayashi\\'s jokes as \"outrageous and unacceptable\", but also said that the opening ceremony, which was directed by Kobayashi, should proceed as planned.The composer for the opening ceremony, Keigo Oyamada, resigned days before the ceremony after growing criticism of his past bullying of people with apparent disabilities, such as Down syndrome. On 16 July, a week before the opening ceremony, TOCOG announced their support of Oyamada as a composer and vowed not to change his selection for the ceremonies, but growing criticism forced him to announce his resignation on 19 July. The opening ceremony music included arrangements of video game soundtracks originating in Japan; however, this included music from the Dragon Quest series, composed by Koichi Sugiyama whom The Daily Beast described as \"notoriously homophobic and ultranationalist\", leading to further criticism of the Organizing Committee.Officials reported that by early June 2021, about 10,000 of the 80,000 registered volunteers had quit. \"There\\'s no doubt that one of the reasons is concern over coronavirus infections,\" the chief executive of the Organizing Committee said, also stating he did not believe this would impact the operation of the Games. On 23 July, hundreds of anti-Olympic protestors gathered outside the Japan National Stadium before the opening ceremony. Security guards blocked reporters from leaving the stadium to interview protestors.Writing for The Conversation (website), Olympic scholar MacIntosh Ross raised concerns about the relationship between the IOC and WHO, suggesting the organizations showed a lack of concern for the health of Japanese citizens and Olympians.  As Ross explained, \"when the IOC and WHO support a global mega-event held during a pandemic, it\\'s difficult to believe that the well-being of the host nation remains a priority.\"A number of controversies arose during the Games, most notably the attempted repatriation on 1 August of Belarusian sprinter Krystsina Tsimanouskaya, allegedly for her criticism of the national sports authorities and team management. Refusing to return to Belarus, over fears for her safety, Tsimanouskaya sought assistance from the IOC and traveled to Warsaw, Poland, on 4 August after being granted a humanitarian visa by Tokyo\\'s Polish Embassy.Near the end of the Olympics, it was reported that Australian athletes had damaged the village rooms before departure, leaving a pool of vomit on the floor, damaged beds and a hole in the wall. Australian rugby Olympians also reportedly became drunk on the flight to Sydney, leaving vomit in the plane bathroom and receiving complaints from other passengers. Team Australia chief Ian Chesterman played down the incidents, and said that the Olympians would not be punished.\\n\\n\\n== Broadcasting ==\\n\\nThe Olympic Games Tokyo 2020 reached a global broadcast audience of 3.05 billion people, according to independent research conducted on behalf of the International Olympic Committee (IOC). Official coverage on Olympic broadcast partners\\' digital platforms alone generated 28 billion video views in total – representing a 139 per cent increase compared with the Olympic Games Rio 2016 and underlining the changing media landscape and Tokyo 2020\\'s designation as the first streaming Games and the most watched Olympic Games ever on digital platforms.Sony and Panasonic partnered with NHK to develop broadcasting standards for 8K resolution television, with a goal to release 8K television sets in time for the 2020 Summer Olympics. In early 2019, Italian broadcaster RAI announced its intention to deploy 8K broadcasting for the Games. NHK broadcast the opening and closing ceremonies, and coverage of selected events in 8K. Telecom company NTT Docomo signed a deal with Finland\\'s Nokia to provide 5G-ready baseband networks in Japan in time for the Games.The Tokyo Olympics were broadcast in the United States by NBCUniversal networks, as part of a US$4.38 billion agreement that began at the 2014 Winter Olympics in Sochi. The United States Olympic & Paralympic Committee asserted that a \"right of abatement\" clause in the contract was triggered by the delay of the Games to 2021, requiring the IOC to \"negotiate in good faith an equitable reduction in the applicable broadcast rights payments\" by NBC, which remains one of IOC\\'s biggest revenue streams. According to NBCUniversal CEO Jeff Shell, the Tokyo games could be the most profitable Olympics in NBC\\'s history. The Tokyo games were NBC\\'s first Olympics broadcast under current president Susan Rosner Rovner.In Europe, this was the first Summer Olympics under the IOC\\'s exclusive pan-European rights deal with Eurosport, which began at the 2018 Winter Olympics and is contracted to run through 2024. The rights for the 2020 Summer Olympics covered almost all of Europe; a pre-existing deal with a marketer excludes Russia. Eurosport planned to sub-license coverage to free-to-air networks in each territory, and other channels owned by Discovery, Inc. subsidiaries. In the United Kingdom, these were set to be the last Games with rights owned primarily by the BBC, although as a condition of a sub-licensing agreement due to carry into the 2022 and 2024 Games, Eurosport holds exclusive pay television rights. In France, these were the last Games whose rights are primarily owned by France Télévisions. Eurosport debuted as pay television rightsholder, after Canal+ elected to sell its pay television rights as a cost-saving measure.In Canada, the 2020 Games were shown on CBC/Radio-Canada platforms, Sportsnet, TSN and TLN. In Australia, they were aired by Seven Network. In the Indian subcontinent, they were aired by Sony Pictures Networks India (SPN).\\n\\n\\n== See also ==\\n\\n2020 Summer Paralympics\\nOlympic Games celebrated in Japan\\n1964 Summer Olympics – Tokyo\\n1972 Winter Olympics – Sapporo\\n1998 Winter Olympics – Nagano\\n2020 Summer Olympics – TokyoList of IOC country codes\\n\\n\\n== Notes ==\\n\\n\\n== References ==\\n\\n\\n== External links ==\\n\\n\"Tokyo 2020\". Olympics.com. International Olympic Committee.\\nOfficial website (Tokyo2020.org)\\nJapanese Olympic Committee'"
      ]
     },
     "execution_count": 4,
     "metadata": {},
     "output_type": "execute_result"
    }
   ],
   "source": [
    "p.content"
   ]
  },
  {
   "cell_type": "code",
   "execution_count": 8,
   "metadata": {},
   "outputs": [
    {
     "data": {
      "text/plain": [
       "898"
      ]
     },
     "execution_count": 8,
     "metadata": {},
     "output_type": "execute_result"
    }
   ],
   "source": [
    "\n",
    "pages = recursively_find_all_pages([\"2020 Summer Olympics\"])\n",
    "len(pages)"
   ]
  },
  {
   "cell_type": "code",
   "execution_count": 9,
   "metadata": {},
   "outputs": [
    {
     "data": {
      "text/plain": [
       "list"
      ]
     },
     "execution_count": 9,
     "metadata": {},
     "output_type": "execute_result"
    }
   ],
   "source": [
    "type(pages)"
   ]
  },
  {
   "cell_type": "code",
   "execution_count": 11,
   "metadata": {},
   "outputs": [
    {
     "data": {
      "text/plain": [
       "'2020 Summer Olympics closing ceremony flag bearers'"
      ]
     },
     "execution_count": 11,
     "metadata": {},
     "output_type": "execute_result"
    }
   ],
   "source": [
    "pages[1].title"
   ]
  },
  {
   "cell_type": "markdown",
   "metadata": {},
   "source": [
    "## 1.2 Filtering the Wikipedia pages and splitting them into sections by headings\n",
    "We remove sections unlikely to contain textual information, and ensure that each section is not longer than the token limit"
   ]
  },
  {
   "cell_type": "code",
   "execution_count": 12,
   "metadata": {},
   "outputs": [
    {
     "name": "stderr",
     "output_type": "stream",
     "text": [
      "None of PyTorch, TensorFlow >= 2.0, or Flax have been found. Models won't be available and only tokenizers, configuration and file/data utilities can be used.\n"
     ]
    }
   ],
   "source": [
    "\n",
    "import re\n",
    "from typing import Set\n",
    "from transformers import GPT2TokenizerFast\n",
    "\n",
    "import numpy as np\n",
    "from nltk.tokenize import sent_tokenize\n",
    "\n",
    "tokenizer = GPT2TokenizerFast.from_pretrained(\"gpt2\")\n",
    "\n",
    "def count_tokens(text: str) -> int:\n",
    "    \"\"\"count the number of tokens in a string\"\"\"\n",
    "    return len(tokenizer.encode(text))\n",
    "\n",
    "def reduce_long(\n",
    "    long_text: str, long_text_tokens: bool = False, max_len: int = 590\n",
    ") -> str:\n",
    "    \"\"\"\n",
    "    Reduce a long text to a maximum of `max_len` tokens by potentially cutting at a sentence end\n",
    "    \"\"\"\n",
    "    if not long_text_tokens:\n",
    "        long_text_tokens = count_tokens(long_text)\n",
    "    if long_text_tokens > max_len:\n",
    "        sentences = sent_tokenize(long_text.replace(\"\\n\", \" \"))\n",
    "        ntokens = 0\n",
    "        for i, sentence in enumerate(sentences):\n",
    "            ntokens += 1 + count_tokens(sentence)\n",
    "            if ntokens > max_len:\n",
    "                return \". \".join(sentences[:i][:-1]) + \".\"\n",
    "\n",
    "    return long_text\n",
    "\n",
    "discard_categories = ['See also', 'References', 'External links', 'Further reading', \"Footnotes\",\n",
    "    \"Bibliography\", \"Sources\", \"Citations\", \"Literature\", \"Footnotes\", \"Notes and references\",\n",
    "    \"Photo gallery\", \"Works cited\", \"Photos\", \"Gallery\", \"Notes\", \"References and sources\",\n",
    "    \"References and notes\",]\n",
    "\n",
    "\n",
    "def extract_sections(\n",
    "    wiki_text: str,\n",
    "    title: str,\n",
    "    max_len: int = 1500,\n",
    "    discard_categories: Set[str] = discard_categories,\n",
    ") -> str:\n",
    "    \"\"\"\n",
    "    Extract the sections of a Wikipedia page, discarding the references and other low information sections\n",
    "    \"\"\"\n",
    "    if len(wiki_text) == 0:\n",
    "        return []\n",
    "\n",
    "    # find all headings and the coresponding contents\n",
    "    headings = re.findall(\"==+ .* ==+\", wiki_text)\n",
    "    for heading in headings:\n",
    "        wiki_text = wiki_text.replace(heading, \"==+ !! ==+\")\n",
    "    contents = wiki_text.split(\"==+ !! ==+\")\n",
    "    contents = [c.strip() for c in contents]\n",
    "    assert len(headings) == len(contents) - 1\n",
    "\n",
    "    cont = contents.pop(0).strip()\n",
    "    outputs = [(title, \"Summary\", cont, count_tokens(cont)+4)]\n",
    "    \n",
    "    # discard the discard categories, accounting for a tree structure\n",
    "    max_level = 100\n",
    "    keep_group_level = max_level\n",
    "    remove_group_level = max_level\n",
    "    nheadings, ncontents = [], []\n",
    "    for heading, content in zip(headings, contents):\n",
    "        plain_heading = \" \".join(heading.split(\" \")[1:-1])\n",
    "        num_equals = len(heading.split(\" \")[0])\n",
    "        if num_equals <= keep_group_level:\n",
    "            keep_group_level = max_level\n",
    "\n",
    "        if num_equals > remove_group_level:\n",
    "            if (\n",
    "                num_equals <= keep_group_level\n",
    "            ):\n",
    "                continue\n",
    "        keep_group_level = max_level\n",
    "        if plain_heading in discard_categories:\n",
    "            remove_group_level = num_equals\n",
    "            keep_group_level = max_level\n",
    "            continue\n",
    "        nheadings.append(heading.replace(\"=\", \"\").strip())\n",
    "        ncontents.append(content)\n",
    "        remove_group_level = max_level\n",
    "\n",
    "    # count the tokens of each section\n",
    "    ncontent_ntokens = [\n",
    "        count_tokens(c)\n",
    "        + 3\n",
    "        + count_tokens(\" \".join(h.split(\" \")[1:-1]))\n",
    "        - (1 if len(c) == 0 else 0)\n",
    "        for h, c in zip(nheadings, ncontents)\n",
    "    ]\n",
    "\n",
    "    # Create a tuple of (title, section_name, content, number of tokens)\n",
    "    outputs += [(title, h, c, t) if t<max_len \n",
    "                else (title, h, reduce_long(c, max_len), count_tokens(reduce_long(c,max_len))) \n",
    "                    for h, c, t in zip(nheadings, ncontents, ncontent_ntokens)]\n",
    "    \n",
    "    return outputs\n"
   ]
  },
  {
   "cell_type": "code",
   "execution_count": null,
   "metadata": {},
   "outputs": [],
   "source": []
  },
  {
   "cell_type": "code",
   "execution_count": 13,
   "metadata": {},
   "outputs": [
    {
     "data": {
      "text/plain": [
       "('Bermuda at the 2020 Summer Olympics',\n",
       " 'Equestrian',\n",
       " \"Bermuda entered one dressage rider into the Olympic competition by finishing in the top four, outside the group selection, of the individual FEI Olympic Rankings for Groups D and E (North, Central, and South America), marking the country's recurrence to the sport after an eight-year absence. The quota was later withdrawn, following an injury of Annabelle Collins' main horse Joyero and a failure to obtain minimum eligibility requirements (MER) aboard a new horse Chuppy Checker.\",\n",
       " 104)"
      ]
     },
     "execution_count": 13,
     "metadata": {},
     "output_type": "execute_result"
    }
   ],
   "source": [
    "\n",
    "# Example page being processed into sections\n",
    "bermuda_page = get_wiki_page('Bermuda at the 2020 Summer Olympics')\n",
    "ber = extract_sections(bermuda_page.content, bermuda_page.title)\n",
    "\n",
    "# Example section\n",
    "ber[-1]\n"
   ]
  },
  {
   "cell_type": "markdown",
   "metadata": {},
   "source": [
    "## ss Start debug extract_contents"
   ]
  },
  {
   "cell_type": "code",
   "execution_count": 45,
   "metadata": {},
   "outputs": [
    {
     "name": "stdout",
     "output_type": "stream",
     "text": [
      "38\n"
     ]
    },
    {
     "data": {
      "text/plain": [
       "['== Bidding process ==',\n",
       " '=== Host city selection ===',\n",
       " '== Impact of the COVID-19 pandemic ==',\n",
       " '=== Qualifying event cancellation and postponement ===',\n",
       " '=== Effect on doping tests ===',\n",
       " '=== Postponement to 2021 ===',\n",
       " '=== Calls for cancellation ===',\n",
       " '=== Costs and insurance ===',\n",
       " '=== Public opinion and COVID-19 effect during and after the Games ===',\n",
       " '== Development and preparation ==',\n",
       " '=== Venues and infrastructure ===',\n",
       " '=== Security ===',\n",
       " '=== Volunteers ===',\n",
       " '=== Medals ===',\n",
       " '=== Torch relay ===',\n",
       " '=== Biosecurity protocols ===',\n",
       " '=== Ticketing ===',\n",
       " '=== Cultural festival ===',\n",
       " '== The Games ==',\n",
       " '=== Opening ceremony ===',\n",
       " '=== Sports ===',\n",
       " '==== New sports ====',\n",
       " '=== Test events ===',\n",
       " '== Participating National Olympic Committees ==',\n",
       " '=== Number of athletes by National Olympic Committee ===',\n",
       " '== Medal summary ==',\n",
       " '=== Podium sweeps ===',\n",
       " '=== Medal ceremonies ===',\n",
       " '== Calendar ==',\n",
       " '=== Event scheduling ===',\n",
       " '== Marketing ==',\n",
       " '=== Look of the Games ===',\n",
       " '== Concerns and controversies ==',\n",
       " '== Broadcasting ==',\n",
       " '== See also ==',\n",
       " '== Notes ==',\n",
       " '== References ==',\n",
       " '== External links ==']"
      ]
     },
     "execution_count": 45,
     "metadata": {},
     "output_type": "execute_result"
    }
   ],
   "source": [
    "sh=re.findall(\"==+ .* ==+\", bermuda_page.content)\n",
    "sh=re.findall(\"==+ .* ==+\", pages[0].content)\n",
    "print(len(sh))\n",
    "sh"
   ]
  },
  {
   "cell_type": "code",
   "execution_count": 19,
   "metadata": {},
   "outputs": [
    {
     "data": {
      "text/plain": [
       "\"Bermuda competed at the 2020 Summer Olympics in Tokyo. Originally scheduled to take place from 24 July to 9 August 2020, the Games had been postponed to 23 July to 8 August 2021, because of the COVID-19 pandemic. Since the nation's official debut in 1936, Bermudian athletes have appeared in every edition of the Summer Olympic Games, but did not attend the 1980 Summer Olympics in Moscow because of the nation's support for the US-led boycott.\\nThe first ever gold medal for Bermuda was won by triathlete Flora Duffy.\\n\\n\\n==+ !! ==+\\n\\n\\n==+ !! ==+\\nThe following is the list of number of competitors in the Games.\\n\\n\\n==+ !! ==+\\n\\nBermuda qualified one boat in the men's single sculls for the Games by finishing third in the B-final and securing the second of five berths available at the 2021 FISA Americas Olympic Qualification Regatta in Rio de Janeiro, Brazil.\\nQualification Legend: FA=Final A (medal); FB=Final B (non-medal); FC=Final C (non-medal); FD=Final D (non-medal); FE=Final E (non-medal); FF=Final F (non-medal); SA/B=Semifinals A/B; SC/D=Semifinals C/D; SE/F=Semifinals E/F; QF=Quarterfinals; R=Repechage\\n\\n\\n==+ !! ==+\\n\\nBermuda entered one triathlete to compete at the Olympics. Remarkably going to her historic fourth Games, Flora Duffy was selected among the top 26 triathletes vying for qualification in the women's event based on the individual ITU World Rankings of 15 June 2021. She won the Gold Medal.\\n\\n\\n==+ !! ==+\\n\\n\\n==+ !! ==+\\n\\nBermuda entered one dressage rider into the Olympic competition by finishing in the top four, outside the group selection, of the individual FEI Olympic Rankings for Groups D and E (North, Central, and South America), marking the country's recurrence to the sport after an eight-year absence. The quota was later withdrawn, following an injury of Annabelle Collins' main horse Joyero and a failure to obtain minimum eligibility requirements (MER) aboard a new horse Chuppy Checker.\\n\\n\\n==+ !! ==+\\nBermuda at the 2019 Pan American Games\\nBermuda at the 2020 Summer Paralympics\\n\\n\\n==+ !! ==+\""
      ]
     },
     "execution_count": 19,
     "metadata": {},
     "output_type": "execute_result"
    }
   ],
   "source": [
    "bc= bermuda_page.content\n",
    "for heading in sh:\n",
    "        bc = bc.replace(heading, \"==+ !! ==+\")\n",
    "\n",
    "bc"
   ]
  },
  {
   "cell_type": "code",
   "execution_count": 27,
   "metadata": {},
   "outputs": [
    {
     "data": {
      "text/plain": [
       "[\"Bermuda competed at the 2020 Summer Olympics in Tokyo. Originally scheduled to take place from 24 July to 9 August 2020, the Games had been postponed to 23 July to 8 August 2021, because of the COVID-19 pandemic. Since the nation's official debut in 1936, Bermudian athletes have appeared in every edition of the Summer Olympic Games, but did not attend the 1980 Summer Olympics in Moscow because of the nation's support for the US-led boycott.\\nThe first ever gold medal for Bermuda was won by triathlete Flora Duffy.\",\n",
       " '',\n",
       " 'The following is the list of number of competitors in the Games.',\n",
       " \"Bermuda qualified one boat in the men's single sculls for the Games by finishing third in the B-final and securing the second of five berths available at the 2021 FISA Americas Olympic Qualification Regatta in Rio de Janeiro, Brazil.\\nQualification Legend: FA=Final A (medal); FB=Final B (non-medal); FC=Final C (non-medal); FD=Final D (non-medal); FE=Final E (non-medal); FF=Final F (non-medal); SA/B=Semifinals A/B; SC/D=Semifinals C/D; SE/F=Semifinals E/F; QF=Quarterfinals; R=Repechage\",\n",
       " \"Bermuda entered one triathlete to compete at the Olympics. Remarkably going to her historic fourth Games, Flora Duffy was selected among the top 26 triathletes vying for qualification in the women's event based on the individual ITU World Rankings of 15 June 2021. She won the Gold Medal.\",\n",
       " '',\n",
       " \"Bermuda entered one dressage rider into the Olympic competition by finishing in the top four, outside the group selection, of the individual FEI Olympic Rankings for Groups D and E (North, Central, and South America), marking the country's recurrence to the sport after an eight-year absence. The quota was later withdrawn, following an injury of Annabelle Collins' main horse Joyero and a failure to obtain minimum eligibility requirements (MER) aboard a new horse Chuppy Checker.\",\n",
       " 'Bermuda at the 2019 Pan American Games\\nBermuda at the 2020 Summer Paralympics',\n",
       " '']"
      ]
     },
     "execution_count": 27,
     "metadata": {},
     "output_type": "execute_result"
    }
   ],
   "source": [
    "contents = bc.split(\"==+ !! ==+\")\n",
    "contents = [c.strip() for c in contents]\n",
    "contents"
   ]
  },
  {
   "cell_type": "code",
   "execution_count": 28,
   "metadata": {},
   "outputs": [],
   "source": [
    "assert len(sh) == len(contents) - 1\n",
    "title=bermuda_page.title\n",
    "cont = contents.pop(0).strip()\n",
    "outputs = [(title, \"Summary\", cont, count_tokens(cont)+4)]\n",
    "    "
   ]
  },
  {
   "cell_type": "code",
   "execution_count": 29,
   "metadata": {},
   "outputs": [
    {
     "data": {
      "text/plain": [
       "[\"Bermuda competed at the 2020 Summer Olympics in Tokyo. Originally scheduled to take place from 24 July to 9 August 2020, the Games had been postponed to 23 July to 8 August 2021, because of the COVID-19 pandemic. Since the nation's official debut in 1936, Bermudian athletes have appeared in every edition of the Summer Olympic Games, but did not attend the 1980 Summer Olympics in Moscow because of the nation's support for the US-led boycott.\\nThe first ever gold medal for Bermuda was won by triathlete Flora Duffy.\",\n",
       " [('Bermuda at the 2020 Summer Olympics',\n",
       "   'Summary',\n",
       "   \"Bermuda competed at the 2020 Summer Olympics in Tokyo. Originally scheduled to take place from 24 July to 9 August 2020, the Games had been postponed to 23 July to 8 August 2021, because of the COVID-19 pandemic. Since the nation's official debut in 1936, Bermudian athletes have appeared in every edition of the Summer Olympic Games, but did not attend the 1980 Summer Olympics in Moscow because of the nation's support for the US-led boycott.\\nThe first ever gold medal for Bermuda was won by triathlete Flora Duffy.\",\n",
       "   117)]]"
      ]
     },
     "execution_count": 29,
     "metadata": {},
     "output_type": "execute_result"
    }
   ],
   "source": [
    "[cont,outputs]"
   ]
  },
  {
   "cell_type": "code",
   "execution_count": 16,
   "metadata": {},
   "outputs": [
    {
     "data": {
      "text/plain": [
       "\"Bermuda competed at the 2020 Summer Olympics in Tokyo. Originally scheduled to take place from 24 July to 9 August 2020, the Games had been postponed to 23 July to 8 August 2021, because of the COVID-19 pandemic. Since the nation's official debut in 1936, Bermudian athletes have appeared in every edition of the Summer Olympic Games, but did not attend the 1980 Summer Olympics in Moscow because of the nation's support for the US-led boycott.\\nThe first ever gold medal for Bermuda was won by triathlete Flora Duffy.\\n\\n\\n== Medalists ==\\n\\n\\n== Competitors ==\\nThe following is the list of number of competitors in the Games.\\n\\n\\n== Rowing ==\\n\\nBermuda qualified one boat in the men's single sculls for the Games by finishing third in the B-final and securing the second of five berths available at the 2021 FISA Americas Olympic Qualification Regatta in Rio de Janeiro, Brazil.\\nQualification Legend: FA=Final A (medal); FB=Final B (non-medal); FC=Final C (non-medal); FD=Final D (non-medal); FE=Final E (non-medal); FF=Final F (non-medal); SA/B=Semifinals A/B; SC/D=Semifinals C/D; SE/F=Semifinals E/F; QF=Quarterfinals; R=Repechage\\n\\n\\n== Triathlon ==\\n\\nBermuda entered one triathlete to compete at the Olympics. Remarkably going to her historic fourth Games, Flora Duffy was selected among the top 26 triathletes vying for qualification in the women's event based on the individual ITU World Rankings of 15 June 2021. She won the Gold Medal.\\n\\n\\n== Non-competing sports ==\\n\\n\\n=== Equestrian ===\\n\\nBermuda entered one dressage rider into the Olympic competition by finishing in the top four, outside the group selection, of the individual FEI Olympic Rankings for Groups D and E (North, Central, and South America), marking the country's recurrence to the sport after an eight-year absence. The quota was later withdrawn, following an injury of Annabelle Collins' main horse Joyero and a failure to obtain minimum eligibility requirements (MER) aboard a new horse Chuppy Checker.\\n\\n\\n== See also ==\\nBermuda at the 2019 Pan American Games\\nBermuda at the 2020 Summer Paralympics\\n\\n\\n== References ==\""
      ]
     },
     "execution_count": 16,
     "metadata": {},
     "output_type": "execute_result"
    }
   ],
   "source": [
    "bermuda_page.content"
   ]
  },
  {
   "cell_type": "code",
   "execution_count": 31,
   "metadata": {},
   "outputs": [],
   "source": [
    "heading=sh[0]\n",
    "plain_heading = \" \".join(heading.split(\" \")[1:-1])\n",
    "num_equals = len(heading.split(\" \")[0])"
   ]
  },
  {
   "cell_type": "code",
   "execution_count": 34,
   "metadata": {},
   "outputs": [
    {
     "data": {
      "text/plain": [
       "['== Medalists ==', ['==', 'Medalists', '=='], 'Medalists', 2]"
      ]
     },
     "execution_count": 34,
     "metadata": {},
     "output_type": "execute_result"
    }
   ],
   "source": [
    "[heading,heading.split(\" \"),plain_heading,num_equals]"
   ]
  },
  {
   "cell_type": "code",
   "execution_count": 42,
   "metadata": {},
   "outputs": [
    {
     "data": {
      "text/plain": [
       "[('2020 Summer Olympics',\n",
       "  'Summary',\n",
       "  'The 2020 Summer Olympics (Japanese: 2020年夏季オリンピック, Hepburn: Nisen Nijū-nen Kaki Orinpikku), officially the Games of the XXXII Olympiad (第三十二回オリンピック競技大会, Dai Sanjūni-kai Orinpikku Kyōgi Taikai) and also known as Tokyo 2020 (東京2020, Tōkyō Nii Zero Nii Zero), was an international multi-sport event held from 23 July to 8 August 2021 in Tokyo, Japan, with some preliminary events that began on 21 July.\\nTokyo was selected as the host city during the 125th IOC Session in Buenos Aires, Argentina, on 7 September 2013. The Games were originally scheduled to take place from 24 July to 9 August 2020, but due to the global COVID-19 pandemic, on 24 March 2020, the event was postponed to 2021, the first such instance in the history of the Olympic Games (previous games had been cancelled but not rescheduled). However, the event retained the Tokyo 2020 branding for marketing purpose. It was largely held behind closed doors with no public spectators permitted due to the declaration of a state of emergency in the Greater Tokyo Area in response to the pandemic, the first and so far only Olympic Games to be held without official spectators. The Games were the most expensive ever, with total spending of over $20 billion.The 2020 Games were the fourth Olympic Games to be held in Japan, following the 1964 Summer Olympics (Tokyo), 1972 Winter Olympics (Sapporo), and 1998 Winter Olympics (Nagano). Tokyo became the first city in Asia to hold the Summer Games twice. The 2020 Games were the second of three consecutive Olympics to be held in East Asia, following the 2018 Winter Olympics in Pyeongchang, South Korea and preceding the 2022 Winter Olympics in Beijing, China. Due to the one-year postponement, Tokyo 2020 was the first and only Olympic Games to have been held in an odd-numbered year and the first Summer Olympics since the 1900 Games to be held in a non-leap year.\\nNew events were introduced in existing sports for 2020, including 3x3 basketball, freestyle BMX and mixed gender team events in a number of existing sports, as well as the return of madison cycling for men and an introduction of the same event for women. New IOC policies also allowed the host organizing committee to add new sports to the Olympic program for just one Games. The disciplines added by the Japanese Olympic Committee were baseball and softball, karate, sport climbing, surfing and skateboarding, the last four of which made their Olympic debuts, and the last three of which will remain on the Olympic program.The United States topped the medal count by both total golds (39) and total medals (113), with China finishing second by both respects (38 and 89). Host nation Japan finished third, setting a record for the most gold medals and total medals ever won by their delegation at an Olympic Games with 27 and 58. Great Britain finished fourth, with a total of 22 gold and 64 medals. The Russian delegation competing as the ROC finished fifth with 20 gold medals and third in the overall medal count, with 71 medals. Bermuda, the Philippines and Qatar won their first-ever Olympic gold medals. Burkina Faso, San Marino and Turkmenistan won their first-ever Olympic medals.',\n",
       "  728),\n",
       " ('2020 Summer Olympics',\n",
       "  'Bidding process',\n",
       "  'The three candidate cities were Tokyo, Istanbul, and Madrid. The applicant cities of Baku and Doha were not promoted to candidate status. A bid from Rome was withdrawn.',\n",
       "  38),\n",
       " ('2020 Summer Olympics',\n",
       "  'Host city selection',\n",
       "  'The International Olympic Committee (IOC) voted to select the host city of the 2020 Summer Olympics on 7 September 2013, at the 125th IOC Session in Buenos Aires, Argentina, using an exhaustive ballot system. None of the candidate cities won more than 50% of the votes in the first round; Madrid and Istanbul were tied for second place, so a runoff vote was held to determine which of the two cities would be eliminated. The final vote was a head-to-head contest between Tokyo and Istanbul. Tokyo was selected by 60 votes to 36, gaining at least the 49 votes required for a majority.',\n",
       "  126),\n",
       " ('2020 Summer Olympics',\n",
       "  'Impact of the COVID-19 pandemic',\n",
       "  'In January 2020, concerns were raised about the potential impact of the COVID-19 pandemic on athletes and visitors to the Olympic Games. Tokyo organizers and the International Olympic Committee insisted they were monitoring the spread of the disease to minimize its effects on preparations for the Olympics. The IOC stated that in 2020, their Japanese partners and Prime Minister Shinzo Abe \"made it very clear that Japan could not manage a postponement beyond next summer [2021] at the latest\". Unlike the case for Zika virus during the 2016 Summer Olympics in Rio de Janeiro, SARS-CoV-2 can be transmitted directly between humans, posing tougher challenges for the organizers to counteract the infectious disease and host a safe and secure event. Also unlike the case for H1N1 \"swine flu\" during the 2010 Winter Olympics in Vancouver, COVID-19 has a higher fatality rate, and there was no effective vaccine until December 2020. In a February 2020 interview, Conservative London mayoral candidate Shaun Bailey argued that London would be able to host the Olympic Games at the former 2012 Olympic venues should the Games need to be moved because of the COVID-19 pandemic. Tokyo Governor Yuriko Koike criticized Bailey\\'s comment as inappropriate. In early 2021, officials in the U.S. state of Florida offered to host the delayed Games in their state, while John Coates, the IOC vice president in charge of the Tokyo Olympics, said the Games would open even if the city and other parts of Japan were under a state of emergency because of COVID-19.Estimates by the National Institute of Infectious Diseases and Kyoto University predicted that states of emergency might be required during the Games. The reports published at the Ministry of Health experts\\' panel also showed new patients increasing to 10,000 if the Games were to allow spectators.',\n",
       "  374),\n",
       " ('2020 Summer Olympics',\n",
       "  'Qualifying event cancellation and postponement',\n",
       "  \"Concerns about the pandemic began to affect qualifying events in early 2020. Some that were due to take place in February were moved to alternative locations to address concerns about travelling to the affected areas, particularly China. For example, the women's basketball qualification was played in Belgrade, Serbia, instead of Foshan, China. The Asia & Oceania boxing qualification tournament, which was originally planned to be held from 3–14 February in Wuhan, China (the location of the original outbreak of the COVID-19 pandemic), instead took place in Amman, Jordan, at the beginning of March. The third round of the women's football qualification tournament was also affected, as the group matches formerly scheduled to be held in China were moved to Australia. The European boxing qualification began on 14 March 2020 in London, United Kingdom, but was suspended after two days of competition before being rescheduled for April 2021. It eventually resumed in June 2021 but was moved to Paris, France, because of renewed concerns over travel to the United Kingdom. Other qualifying events that were due to take place in March to June 2020 began to be postponed until later in the year and mid-2021 as part of a wider suspension of international sporting competitions in response to the pandemic. A multitude of Olympic sports were affected, including archery, baseball, cycling, handball, judo, rowing, sailing, volleyball, and water polo.\",\n",
       "  298),\n",
       " ('2020 Summer Olympics',\n",
       "  'Effect on doping tests',\n",
       "  'Mandatory doping tests were being severely restricted by the COVID-19 pandemic in early 2020. European anti-doping organizations raised concerns that blood and urine tests could not be performed and that mobilizing the staff necessary to do so before the end of the pandemic would be a health risk. Despite the need for extensive testing to take place in advance of the Games, the World Anti-Doping Agency (WADA) stated that public health and safety were their topmost priorities. The Chinese anti-doping agency temporarily ceased testing on 3 February 2020, with a planned resumption of phased testing towards the end of the month, and the anti-doping organizations in the United States, France, Great Britain, and Germany had reduced their testing activities by the end of March.',\n",
       "  163),\n",
       " ('2020 Summer Olympics',\n",
       "  'Postponement to 2021',\n",
       "  'The Tokyo Organizing Committee of the Olympic and Paralympic Games (TOCOG) released a statement on 2 March 2020, confirming that preparations for the upcoming Tokyo Olympics were \"continuing as planned\". On 23 March, both Canada and Australia indicated that they would withdraw from the Games if they were not postponed by a year. On the same day, Japanese prime minister Shinzo Abe stated he would support a proposed postponement, citing that ensuring athlete safety was \"paramount,\" and veteran IOC member and former vice president Dick Pound said that he expected the Games to be postponed.On 24 March 2020, 122 days to go for the planned start, the IOC, TOCOG and prime minister Abe released a joint statement announcing that the 2020 Summer Olympics and Paralympics would be rescheduled to a date \"beyond 2020 but not later than summer 2021\". They stated that the Games could \"stand as a beacon of hope to the world during these troubled times\", and that the Olympic flame could become \"the light at the end of the tunnel in which the world finds itself at present\". Prime Minister Abe stated that IOC president Thomas Bach responded \"with 100% agreement\" to his proposal to delay the Games. For continuity and marketing purposes, it was agreed that the Games would still be branded as Tokyo 2020 despite the change in schedule.On 30 March 2020, the IOC and TOCOG announced that they had reached an agreement on the new dates for the 2020 Summer Olympics, which would now begin with the opening ceremony on 23 July 2021 and end with the closing ceremony on 8 August 2021, still to be held in Tokyo. The subsequent Winter Olympics in Beijing are scheduled to begin on 4 February 2022, less than six months later. Shortly before the postponement was confirmed, the IOC and Tokyo 2020 organizers formed a task force named \"Here We Go\" with the remit to address any issues arising from postponing the Games, such as sponsorship and accommodation. The organizers confirmed that all athletes who had already qualified for Tokyo 2020 would keep their qualification slots.',\n",
       "  414),\n",
       " ('2020 Summer Olympics',\n",
       "  'Calls for cancellation',\n",
       "  'Health experts expressed concern in April 2020 that the Games might have to be cancelled if the pandemic should persist. In an interview, the then president of TOCOG and former Japanese prime minister, Yoshirō Mori, asserted that the Games would be \"scrapped\" if they could not go ahead in 2021. On 29 April 2020, Prime Minister Abe stated that the Games \"must be held in a way that shows the world has won its battle against the coronavirus pandemic\". Thomas Bach acknowledged in an interview on 20 May 2020, that the job of reorganizing the Tokyo Games was \"a mammoth task\" and also admitted that the event would have to be cancelled altogether if it could not take place in the summer of 2021. However, both Mori and Bach expressed optimism about the Games going ahead.A member of the Japanese COVID-19 Advisory Committee on the basic action policy co-authored a British Medical Journal editorial, which stated, \"holding Tokyo 2020 for domestic political and economic purposes—ignoring scientific and moral imperatives—is contradictory to Japan\\'s commitment to global health and human security\".On 21 January 2021, multiple sources reported that the Japanese government had \"privately concluded\" that the Games would have to be cancelled. The government dismissed the claims, stating that the reports were \"categorically untrue\". The new Japanese prime minister Yoshihide Suga confirmed on 19 February that the G7 had given unanimous support for the postponed Games to go ahead as scheduled. It was reported in April 2021, just three months before the start of the Games, that there was still the option to cancel the Tokyo Olympics with the country having vaccinated less than 1% of its population, with tens of thousands of volunteers expected to take part and athletes not being required to quarantine after arriving in Japan.Public support for the Games in Japan decreased significantly amid a 2021 surge in COVID-19 cases in the country. Multiple organizations of medical professionals voiced oppositions to the Games, while an opinion poll in April 2021 saw 40% of participants support the cancellation of the Games, and 33% support a second postponement. In May 2021, 83% of those polled supported the cancellation or postponement of the Games. The Tokyo Medical Practitioners Association called for the cancellation, stating that hospitals in Tokyo \"have their hands full and have almost no spare capacity\" in an open letter to the prime minister. At least nine out of 47 elected governors supported the cancellation of the Games. Nearly 37% of Japanese companies surveyed supported the cancellation of the Games, and 32% supported postponement.Kenji Utsunomiya, who had previously run for Governor of Tokyo, collected more than 351,000 signatures on a petition calling for the organisers to \"prioritise life\" over the Olympics. Japanese writers Jiro Akagawa and Fuminori Nakamura also called for the Games to be postponed or cancelled.On 26 May 2021, the Asahi Shimbun newspaper, which was a local sponsor of the Games, published an editorial calling for Prime Minister Suga to \"calmly and objectively assess the situation and decide on the cancellation of the event this summer.\" On 4 June it was reported that Japanese sponsors proposed to the organisers for \"the Games to be postponed for several months,\" citing a comment by a corporate sponsor senior executive: \"It just makes much, much more sense from our perspective to hold the Games when there are more vaccinated people, the weather is cooler and maybe public opposition is lower.\"In July 2021, it was announced that all events in Tokyo were to be held behind closed doors with no spectators due to a new state of emergency. A poll by the Asahi Shimbun found that 55% of those surveyed supported the cancellation of the Olympics, and 68% felt that organisers would not be able to suitably control COVID-19 at the Games. The decision was also detrimental to local sponsors, which had planned in-person presences to promote their products during the Games; an executive of official sponsor Toyota stated that the company had pulled a television advertising campaign it had planned for the Games in Japan, citing that the Olympics were \"becoming an event that has not gained the public\\'s understanding.\"Had the games been cancelled, it would have been the first time since World War II that an Olympic event had been called off and the first games to be scrapped due to circumstances unrelated to war. A complete cancellation would have also cost Japan ¥4.52 trillion (US$41.5 billion), based on operating expenses and loss of tourism activity.',\n",
       "  923),\n",
       " ('2020 Summer Olympics',\n",
       "  'Costs and insurance',\n",
       "  'According to an estimate conducted by professor emeritus Katsuhiro Miyamoto of Kansai University and reported by the NHK in March 2020, the cost of delaying the 2020 Olympics by one year would be 640.8 billion yen (US$5.8 billion), taking maintenance expenditures for the unused facilities into account.The Nomura Research Institute estimated that cancelling the Tokyo Olympics and Paralympics in 2021 would cost around 1.81 trillion yen ($17 billion), less than the economic damages projected if another state of emergency is declared, noting that a decision to hold the games \"should be made based on the impact on infection risks, not from the standpoint of economic loss\".The Tokyo Games were protected through the commercial insurance marketplace Lloyd\\'s of London, by global reinsurers Munich Re and Swiss Re. The IOC takes out around $800 million of insurance for each Summer Olympics, with the total amount of loss insured for the 2020 Games likely to be more than $2 billion. The disruption caused by postponing the Games was covered by the insurance policy, with those likely to make claims for their financial losses including local organizers, sponsors, hospitality firms, and travel providers.Holders of tickets purchased from overseas prior to postponement were entitled to refunds for both Olympic and Paralympic ticket purchases, except for the costs of cancelled hotel bookings. Although about 600,000 Olympic tickets and 300,000 Paralympic tickets were eligible to be refunded, organizers said that they would not release the total costs of the refunds. Reuters quoted industry sources who estimated that the Tokyo Olympics Committee had taken out US$500–800 million in insurance, and that after accounting for costs such as rebooking sporting venues and the Olympic Village, little of that payout would be available to recoup the proceeds of lost and refunded ticket sales. The local organizers are responsible for ticket sales and use them to defray the costs of holding the games; ticket sales were expected to bring in approximately US$800 million, but actual sales were close to zero.In June 2022, the Tokyo Organizing Committee revealed in the final budget report for the Tokyo Olympics and Paralympics that the cost for the Olympic Games was 640.4 billion yen (US$5.8 billion ), which higher than the cost for the Rio 2016.',\n",
       "  466),\n",
       " ('2020 Summer Olympics',\n",
       "  'Public opinion and COVID-19 effect during and after the Games',\n",
       "  \"Prior to the Tokyo Olympics being held, many Japanese people were negative about hosting the event, but their attitudes had become more positive towards the end of the Games. According to a public opinion poll conducted jointly by the Nippon News Network and the Yomiuri Shimbun newspaper, which targeted Japanese citizens at the end of the Olympics, 38% of respondents said that it was possible to hold the Olympics in a safe manner against COVID-19, while 55% said that it was not possible. However, 64% answered that it was good that the Tokyo Games had gone ahead, while 28% answered that they wished the event had not been held. Of the respondents, 61% were glad the event had been held without spectators and only 12% said that spectators should have been allowed.On 29 July, less than a week into the Games, journalist Masaki Kubota reported his analysis of the Japanese people's perspective on the Olympics, which he believed was greatly influenced by the change in the way the Japanese news media reported on the Games. He pointed out that many Japanese news media had insisted on canceling the Olympics, citing fears that COVID-19 would spread, but once Japanese athletes started winning medals, the media changed their reporting policy and began livening up the Olympics, which had the effect of altering public opinion in Japan.Once the Tokyo Olympics were underway, followed by the Tokyo Paralympics, there was a sharp increase in COVID-19 cases in Japan, especially those caused by the Delta variant. On 26 July, there were 60,157 cases detected in Japan, breaking the record of 44,961 cases recorded on 10 May. On 9 August, one day after the Olympics had ended, daily cases in Japan reached 100,000 for the first time, and new cases continued to increase until the peak on 23 August, when 156,931 cases were recorded.\",\n",
       "  397),\n",
       " ('2020 Summer Olympics',\n",
       "  'Development and preparation',\n",
       "  \"The Tokyo Organizing Committee was originally headed by former Japanese prime minister Yoshirō Mori, but he resigned in February 2021 due to backlash from sexist comments about women in meetings. Seiko Hashimoto was chosen to succeed him. Tamayo Marukawa, Minister for the Tokyo Olympic and Paralympic Games, was responsible for overseeing the preparations on behalf of the Japanese government.The Tokyo Metropolitan Government set aside a fund of ¥400 billion (more than US$3.67 billion) to cover the cost of hosting the Games. The Japanese government was considering easing airspace restrictions to allow an increased slot capacity at both Haneda and Narita airports. A new railway line was planned to link both airports through an expansion of Tokyo Station, cutting travel time from Tokyo Station to Haneda from 30 minutes to 18 minutes, and from Tokyo Station to Narita from 55 minutes to 36 minutes; funded primarily by private investors, the line would cost ¥400 billion. The East Japan Railway Company (JR East) was also planning a new route near Tamachi to Haneda Airport.There were plans to fund the accelerated completion of the Central Circular Route, Tokyo Gaikan Expressway, and Ken-Ō Expressway, and the refurbishment of other major expressways in the area. The Yurikamome automated transit line was also to be extended from its existing terminal at Toyosu Station to a new terminal at Kachidoki Station, passing the site of the Olympic Village, although the line was not expected to have adequate capacity to serve major events in the Odaiba area on its own.In April 2018, the Tokyo Organizing Committee signed a partnership with the International Labour Organization to ensure decent work in the preparation of and during the 2020 Olympic Games.In June 2020, the chief executive of the Organizing Committee, Toshirō Mutō, stated that the committee was exploring options for streamlining the Games to achieve cost savings. On 25 September, the IOC and Tokyo Organizing Committee agreed to a suite of measures to simplify the Games' logistics, including a cut to non-athlete staff, use of online meetings, and streamlined transport, among others. The committee also outlined areas it would be exploring in order to maintain the health and safety of all participants.\",\n",
       "  461),\n",
       " ('2020 Summer Olympics',\n",
       "  'Venues and infrastructure',\n",
       "  'In February 2012, it was announced that Tokyo\\'s former National Stadium, the central venue for the 1964 Summer Olympics, would undergo a ¥100 billion renovation for the 2019 Rugby World Cup and the 2020 Summer Olympics. In November 2012, the Japan Sport Council announced that it was taking bids for proposed stadium designs. Of the 46 finalists, Zaha Hadid Architects was awarded the project, which would replace the old stadium with a new 80,000-seat stadium. There was criticism of the Zaha Hadid design—which was compared to a bicycle helmet and regarded as clashing with the surrounding Meiji Shrine—and widespread disapproval of the costs, even with attempts to revise and \"optimize\" the design.In June 2015, the government announced plans to reduce the new stadium\\'s permanent capacity to 65,000 in its athletics configuration (although with the option to add up to 15,000 temporary seats for football) as a further cost-saving measure. The original plan to build a retractable roof was also abandoned. At the end of 2015, as a result of public opposition to the increasing costs of the new stadium (which had reached ¥252 billion), the government chose to reject Zaha Hadid\\'s design entirely and selected a new design by Japanese architect Kengo Kuma. Inspired by traditional temples and with a lower profile, Kuma\\'s design had a budget of ¥149 billion. The changes meant the new stadium could not be completed in time for the 2019 Rugby World Cup as originally intended. The National Stadium, which was inaugurated on 21 December 2019, was named the Olympic Stadium for the duration of the Tokyo Games.In October 2018, the Board of Audit issued a report stating that the total cost of the Olympic venues could exceed US$25 billion.Of the 33 competition venues in Tokyo, 28 were within 8 kilometers (5 miles) of the Olympic Village, with eleven new venues to be constructed. On 16 October 2019, the IOC announced that there were plans to re-locate the marathon and racewalking events to Sapporo for heat concerns. The plans were made official on 1 November 2019 after Tokyo Governor Yuriko Koike accepted the IOC\\'s decision, despite her belief that the events should have remained in Tokyo.',\n",
       "  455),\n",
       " ('2020 Summer Olympics',\n",
       "  'Security',\n",
       "  'In December 2018, the Japanese government chose to ban drones from flying over venues being used for the Olympic and Paralympic Games. A similar ban was also imposed for the 2019 Rugby World Cup, which Japan also hosted. In January 2020, counterterrorism drills began in different parts where the Games would take place, after intelligence data showed that terrorist groups could have carried out an attack seeking worldwide attention. In July 2021, prior to the start of the Games, the Japan Coast Guard conducted counterterrorism drills in the Tokyo Bay. The drill consisted of two inflatable boats trying to stop a suspicious ship from getting to shore.',\n",
       "  124),\n",
       " ('2020 Summer Olympics',\n",
       "  'Volunteers',\n",
       "  'Applications for volunteering at the 2020 Olympic and Paralympic Games were accepted beginning on 26 September 2018. By 18 January 2019, a total of 204,680 applications had been received by the Tokyo Organizing Committee. Interviews to select the requisite number of volunteers began in February 2019, with training scheduled to take place in October 2019. The volunteers at the venues were to be known as \"Field Cast\", and the volunteers in the city were to be known as \"City Cast\". These names were chosen from a shortlist of four from an original 150 pairs of names; the other three shortlisted names were \"Shining Blue\" and \"Shining Blue Tokyo\", \"Games Anchor\" and \"City Anchor\", and \"Games Force\" and \"City Force\". The names were chosen by the people who had applied to be volunteers at the Games.As of early June 2021, approximately 10,000 out of the 80,000 registered volunteers resigned from the Games. Media attributed the rise in pandemic cases as the reason for massive quitting. More volunteer assignments were expected to be cancelled due to the spectator ban.',\n",
       "  225),\n",
       " ('2020 Summer Olympics',\n",
       "  'Medals',\n",
       "  'In February 2017, the Tokyo Organizing Committee announced an electronics recycling program in partnership with Japan Environmental Sanitation Center and NTT Docomo, soliciting donations of electronics such as mobile phones to be reclaimed as materials for the medals. Aiming to collect eight tonnes of metals to produce the medals for the Olympic and Paralympic Games, collection boxes were deployed at public locations and NTT Docomo retail shops in April 2017. A design competition for the medals was launched in December of that year.In May 2018, the organizing committee reported that they had obtained half the required 2,700 kilograms of bronze but were struggling to obtain the required amount of silver; although bronze and silver medals purely utilize their respective materials, IOC requirements mandate that gold medals utilize silver as a base. The collection of bronze was completed in November 2018, with the remainder estimated to have been completed by March 2019.On 24 July 2019 (one year ahead of the originally scheduled opening ceremony), the designs of the medals were unveiled. The medals for the Olympic and Paralympic Games were designed by Junichi Kawanishi following a nationwide competition. A new feature shared with the Paralympic medals is that the ribbons contain one, two, or three silicone convex lines to distinguish gold, silver, and bronze medals, respectively.',\n",
       "  263),\n",
       " ('2020 Summer Olympics',\n",
       "  'Torch relay',\n",
       "  'The slogan of the 2020 Summer Olympics torch relay was \"Hope Lights Our Way\".As determined by a 2009 IOC ruling that banned international torch relays for any future Olympic Games, the 2020 Summer Olympics torch was scheduled to only visit the two countries of Greece and the host nation Japan. The first phase of the relay began on 12 March 2020, with the traditional flame lighting ceremony at the Temple of Hera in Olympia, Greece. The torch then travelled to Athens, where the Greek leg of the relay culminated in a handover ceremony at the Panathenaic Stadium on 19 March, during which the torch was transferred to the Japanese contingent. The flame was placed inside a special lantern and transported from Athens International Airport on a chartered flight to Higashimatsushima in Japan. The torch was then expected to begin the second phase of its journey on 20 March, as it traveled for one week around the three most affected areas of the 2011 Tōhoku earthquake and tsunami—Miyagi, Iwate and Fukushima—where it would go on display under the heading \"Flame of Recovery\". After leaving Naraha on 26 March, the torch would commence its main relay around Japan, incorporating all 47 prefectural capitals.After the decision to postpone the Games was made, the torch was placed again in a special lantern on display in the city of Fukushima for a month. After that, the lantern was transferred to the Tokyo prefecture, where it was kept safe until the restart of the relay in 2021. On 23 July 2020 (one year ahead of the rescheduled opening ceremony), a promotional video was released featuring Japanese swimmer Rikako Ikee carrying the lantern inside Japan National Stadium, drawing comparisons between emergence from the pandemic and her own return to sport after being diagnosed with leukemia. On 20 August 2020, it was announced that the torch relay would begin again in Naraha, Fukushima on 25 March 2021, nearly a year later than originally planned.The relay ended at Tokyo\\'s National Stadium (Olympic Stadium) on 23 July, with tennis player Naomi Osaka lighting the Olympic cauldron at the finale of the opening ceremony. The cauldron lit in the Olympic Stadium was only used during the Opening and Closing ceremonies: a separate cauldron was lit on the Tokyo waterfront for public view at the Yume no Ohashi bridge in Odaiba, making it only the second time in olympic history where the cauldron was not displayed in the athletics stadium, the other time being in 2016.',\n",
       "  504),\n",
       " ('2020 Summer Olympics',\n",
       "  'Biosecurity protocols',\n",
       "  'In February 2021, the IOC began releasing \"playbooks\" containing details on planned COVID-19 biosecurity protocols for athletes, officials, the press, and other staff, including standard protocols such as practicing social distancing, hygiene, the wearing of face masks (outside of training and competition for athletes), and being restricted from visiting bars, restaurants, shops, and other tourist areas around Greater Tokyo Area, or using public transport unless otherwise permitted. Participants would be asked to use Japan\\'s COCOA Exposure Notification app and would be tested at least every four days. Athletes who tested positive would be unable to compete and could be quarantined at a government facility (although leeway would be given in the event of false positives). Close contacts would also need to test negative in order to be cleared for competition. Athletes would be discouraged from \"excessive\" celebrations because the actions could spread infected droplets. The playbooks were criticized in a paper published by The New England Journal of Medicine in May 2021, for lacking \"scientifically rigorous risk assessment\" and failing to \"distinguish the various levels of risk faced by athletes\". The playbook stated that the athletes were required to arrive up to five days prior to the start of the competition and to leave within 48 hours of being eliminated from their sport or the conclusion of the competitions.The IOC recommended the vaccination of athletes against COVID-19 if vaccines were available to them, but this was not a prerequisite for participation and the IOC advised against athletes \"jumping the queue\" in order to obtain priority over essential populations. On 12 March 2021, Thomas Bach announced that in nations where they were approved for use, the Chinese Olympic Committee had offered to cover the costs of the Chinese CoronaVac and the Sinopharm BIBP vaccine for athletes competing in the 2020 Summer Olympics and 2022 Winter Olympics, and would purchase two doses for their nation\\'s general public for each vaccinated athlete. On 6 May 2021, Pfizer announced that it would donate doses of its vaccine to NOCs competing in Tokyo.Approximately 93,000 athletes and officials were exempt from the quarantine rules upon arriving in Japan, provided that they remained in areas separated from the local population. With around 300,000 local staff and volunteers entering and exiting these bubbles, and 20,000 vaccine doses allocated for this group, this led to concerns of COVID-19 spreading both during the Games and when teams returned to their countries.Due to international travel restrictions, the organizing committee announced in March 2021 that no international guests (including spectators, and friends and family members of the athletes) would be allowed to attend the Games. As per existing guidance for spectator sports in Japan, spectators would be asked to refrain from cheering or shouting. On 19 June 2021, Governor Koike announced that plans for public viewing events for the Games had been scrapped, in order to use the planned venues (such as Yoyogi Park) as mass vaccination sites instead. On 21 June, it was announced that all venues would be capped at a maximum of 10,000 ticketed spectators or 50% capacity, whichever was lower.On 2 July 2021, the new TOCOG president Seiko Hashimoto warned that there was still a possibility of the Games being held behind closed doors because of rising COVID-19 cases in the country. Japan\\'s slow vaccination rate had been of particular concern. A simulation run by the University of Tokyo in May 2021 projected that a new wave of infections could peak in mid-October if the Games went on after the existing state of emergency in Tokyo had expired.On 8 July 2021, after Tokyo had recorded 920 new COVID-19 cases (its highest increase since May), Prime Minister Suga declared a new state of emergency in the Tokyo area from 12 July through 22 August (ending only two days before the Paralympics\\' opening ceremony), and announced that all events at venues in the area would therefore be held behind closed doors with no spectators permitted. Hashimoto stated that \"it is extremely regrettable that the Games will be staged in a very limited manner in the face of the spread of novel coronavirus infections.\" IOC President Thomas Bach stated that \"we will support any measure which is necessary to have a safe and secure Olympic and Paralympic Games for the Japanese people and all the participants.\"The announcement stated that spectators would still be allowed at events being held outside of Tokyo, subject to the approval by local health authorities and the aforementioned 50%/10,000-spectator limit. The prefectures of Fukushima, Hokkaido and Ibaraki announced that they would prohibit spectators at events held in the areas. The opening ceremony was expected to be limited to fewer than 1,000 VIP guests, including IOC representatives and dignitaries, while some events did allow members of other competing delegations to occupy spectator seats as well. School students were invited to watch football matches in Ibaraki.On 16 July, it was reported that Bach had asked Prime Minister Suga about the possibility that restrictions on spectators could be eased later on if COVID-19 conditions were to improve in Tokyo. However, on 2 August, Suga announced that all existing state of emergency declarations would be extended through 31 August, and be extended to Chiba, Kanagawa, Saitama, and parts of Osaka.',\n",
       "  1076),\n",
       " ('2020 Summer Olympics',\n",
       "  'Ticketing',\n",
       "  'The opening ceremony tickets were expected to range from ¥12,000 to ¥300,000, with a maximum price of ¥130,000 for the finals of the athletics track and field events. The average ticket price was ¥7,700, with half the tickets being sold for up to ¥8,000. A symbolic ticket price of ¥2,020 was expected for families, groups resident in Japan, and in conjunction with a school program. Tickets would be sold through 40,000 shops in Japan and by mail order to Japanese addresses through the internet. International guests, had they been allowed, would have needed to visit Japan during the sales period, or arrange to buy tickets through a third party such as a travel agent.Tickets went on general sale in Japan in the autumn of 2019 and were expected to be sold globally from June 2020; however, this plan was suspended when the Games were postponed on 24 March 2020. The Tokyo Organizing Committee confirmed that tickets already purchased would remain valid for the same sessions according to the new schedule and that refunds were also being offered.On 20 March 2021, it was announced that due to COVID-19-related concerns, no international guests would be allowed to attend the 2020 Olympics or Paralympics. This included both spectators, as well as the friends and family of athletes. All overseas ticketholders would be refunded. Hashimoto cited uncertainties surrounding international travel restrictions, and goals to preserve the safety of all participants and spectators, and not place a burden on the health care system. It was ultimately announced in July that all local spectators were not allowed to attend any events held in Tokyo, Fukushima and Hokkaido.',\n",
       "  338),\n",
       " ('2020 Summer Olympics',\n",
       "  'Cultural festival',\n",
       "  'A cultural program known as Nippon Festival was scheduled to coincide with the Olympics and Paralympics, running from April to September 2021 as a series of streaming events held by the Tokyo Organizing Committee and other partners. The events reflected the themes of \"Participation and Interaction\", \"Towards the Realisation of an Inclusive Society\" and \"Reconstruction of the Tohoku Region\". The program was either downsized or reformatted to virtual format due to the COVID-19 pandemic and the postponement of the Games. One of these events was a concert held on 18 July, which featured J-rock band Wanima, choreography by dancers Aio Yamada and Tuki Takamura, and the presentation of animated \"creatures\" based on illustrations \"embodying the thoughts and emotions of people from across the world\".The original plans for Nippon Festival included events such as Kabuki x Opera (a concert that would have featured stage actor Ichikawa Ebizō XI, opera singers Anna Pirozzi and Erwin Schrott, and the Tokyo Philharmonic Orchestra), an arts and culture festival focusing on disabilities, and a special two-day exhibition sumo tournament at the Ryōgoku Kokugikan shortly after the Olympics—which would have differed significantly from the traditional bi-monthly Honbasho tournaments, and featured special commentary in English and Japanese to help explain to spectators the customs and traditions of professional sumo, which are deeply rooted in the Shinto religion.',\n",
       "  310),\n",
       " ('2020 Summer Olympics', 'The Games', '', 2),\n",
       " ('2020 Summer Olympics',\n",
       "  'Opening ceremony',\n",
       "  'The opening ceremony was held on 23 July 2021 in the Olympic Stadium in Tokyo. It included the traditional Parade of Nations. Emperor Naruhito formally opened the Games, and at the end of the torch relay the Olympic cauldron was lit by Japanese tennis player Naomi Osaka.For the first time in the 2020 Olympic Games, it was decided that one male and one female in each country would take turns holding flags and serve as two of them. \\nThis was done by embodying the \"Agenda 2020\" set during President Bach\\'s term.For the first time in the history of the games, a moment of silence was observed in the opening ceremony for the victims of the Munich massacre.',\n",
       "  141),\n",
       " ('2020 Summer Olympics',\n",
       "  'Sports',\n",
       "  'The event program for the 2020 Summer Olympics was approved by the IOC executive board on 9 June 2017. IOC president Thomas Bach stated that their goal was to give the Games \"youthful\" and \"urban\" appeal, and to increase the number of female participants.The Games featured 339 events in 33 different sports, encompassing a total of 50 disciplines. Karate, sport climbing, surfing, and skateboarding made their Olympic debut, while baseball and softball also made a one-off return to the Summer Olympics for the first time since 2008. 15 new events within existing sports were also added, including 3×3 basketball, freestyle BMX, and the return of madison cycling, as well as 9 new mixed events in several sports (table tennis, archery, judo, shooting (3), triathlon, 4 × 400 m relay running and 4 × 100 m medley swimming).In the list below, the number of events in each discipline is noted in parentheses.',\n",
       "  201),\n",
       " ('2020 Summer Olympics',\n",
       "  'New sports',\n",
       "  'On 12 February 2013, with a remit to control the cost of the Games and ensure they are \"relevant to sports fans of all generations\", the IOC Executive Board recommended the removal of one of the 26 sports contested at the 2012 Summer Olympics, leaving a vacancy which the IOC would seek to fill at the 125th IOC Session. The new entrant would join golf and rugby sevens (which would both debut in 2016) as part of the program of 28 \"core\" sports. Five sports were shortlisted for removal, including canoe, field hockey, modern pentathlon, taekwondo, and wrestling. In the final round of voting by the executive board, eight members voted to remove wrestling from the Olympic program. Hockey and taekwondo were both tied in second with three votes each.The decision to drop wrestling surprised many media outlets, given that the sport\\'s role in the Olympics dates back to the ancient Olympic Games, and was included in the original program for the modern Games. The New York Times felt that the decision was based on the shortage of well-known talent and the absence of women\\'s events in the sport. Out of the shortlist from the IOC vote, Wrestling was duly added to the shortlist of applicants for inclusion in the 2020 Games, alongside the seven new sports that were put forward for consideration.On 29 May 2013, it was announced that three of the eight sports under consideration had made the final shortlist: baseball/softball, squash and wrestling. The other five sports were rejected at this point: karate, roller sports, sport climbing, wakeboarding, and wushu. At the 125th IOC Session on 8 September 2013, wrestling was chosen to be included in the Olympic program for 2020 and 2024. Wrestling secured 49 votes, while baseball/softball and squash received 24 votes and 22 votes respectively.With the adoption of the Olympic Agenda 2020 in December 2014, the IOC shifted from a \"sport-based\" approach to the Olympic program to an \"event-based\" program—establishing that organizing committees may propose discretionary events to be included in the program to improve local interest. As a result of these changes, a shortlist of eight new proposed sports was unveiled on 22 June 2015, consisting of baseball/softball, bowling, karate, roller sports, sport climbing, squash, surfing, and wushu. On 28 September 2015, the Tokyo Organizing Committee submitted their shortlist of five proposed sports to the IOC: baseball/softball, karate, sport climbing, surfing, and skateboarding. These five new sports were approved on 3 August 2016 by the IOC during the 129th IOC Session in Rio de Janeiro, Brazil, and were included in the sports program for 2020 only, bringing the total number of sports at the 2020 Olympics to 33.',\n",
       "  571),\n",
       " ('2020 Summer Olympics',\n",
       "  'Test events',\n",
       "  'A total of 56 test events were scheduled to take place in the run-up to the 2020 Olympics and Paralympics. Two of the events were held in late 2018, but the main test event schedule commenced in June 2019 and was originally due to be completed in May 2020 prior to the start of the Olympics. Several of the events were incorporated into pre-existing championships, but some have been newly created specifically to serve as Olympic test events for the 2020 Summer Games.In February 2019, it was announced that the test events would be branded under the banner \"Ready, Steady, Tokyo\". The Tokyo Organizing Committee is responsible for 22 of the test events, with the remaining events being arranged by national and international sports federations. The first test event was World Sailing\\'s World Cup Series, held at Enoshima in September 2018. The last scheduled event is the Tokyo Challenge Track Meet, which was originally due to take place at the Olympic Stadium on 6 May 2020.All test events originally scheduled to take place from 12 March 2020 onwards were postponed due to COVID-19, with the test event calendar to be reviewed during the preparations for the rescheduled Games.',\n",
       "  239),\n",
       " ('2020 Summer Olympics',\n",
       "  'Participating National Olympic Committees',\n",
       "  'The Republic of Macedonia has competed under the provisional name \"Former Yugoslav Republic of Macedonia\" in every Summer and Winter Games since its debut in 1996 because of the disputed status of its official name. The naming disputes with Greece ended in 2018 with the signing of the Prespa agreement, and the country was officially renamed North Macedonia in February 2019. The new name was immediately recognized by the IOC, although the Olympic Committee of North Macedonia (NMOC) was not officially adopted until February 2020. The NMOC sent a delegation to the 2020 Winter Youth Olympics in January 2020, but the Tokyo Games were North Macedonia\\'s first appearance at the Summer Olympics under its new name.Since competing as Swaziland ten times at the Summer and Winter Olympics, Eswatini made its debut under that name after the renaming of the country by the king in 2018.On 9 December 2019, the World Anti-Doping Agency (WADA) banned Russia from all international sport for a period of four years, after the Russian government was found to have tampered with laboratory data that it had provided to WADA in January 2019 as a condition of the Russian Anti-Doping Agency being reinstated. As a result of the ban, WADA planned to allow individually cleared Russian athletes to take part in the 2020 Summer Olympics under a neutral banner, as instigated at the 2018 Winter Olympics, but they would be excluded from team sports. The head of WADA\\'s Compliance Review Committee, Jonathan Taylor, stated that the IOC would not be able to use the \"Olympic Athletes from Russia\" (OAR) designation as it did in 2018, emphasizing that neutral athletes could not be portrayed as representing a specific country. Russia later filed an appeal to the Court of Arbitration for Sport (CAS) against WADA\\'s decision. After reviewing the case on appeal, CAS ruled on 17 December 2020 that the penalty placed on Russia be reduced. Instead of a total ban from all sporting events, the ruling allowed Russia to participate at the Olympics and other international events, but the team would not be permitted to use the Russian name, flag, or anthem for a period of two years and must present themselves as \"Neutral Athlete\" or \"Neutral Team\". The ruling does allow for \"Russia\" to be displayed on the team uniform—although it should be no more visible than the \"Neutral Athlete/Team\" designation—as well as the use of the Russian flag\\'s colors within the uniform\\'s design.On 19 February 2021, it was announced that Russia would compete under the acronym \"ROC\" after the name of the Russian Olympic Committee although the name of the committee itself in full could not be used to refer to the delegation. The ROC team would be represented by the flag of the Russian Olympic Committee.\\nOn 6 April 2021, North Korea announced that it would not participate in the 2020 Summer Olympics because of COVID-19 concerns. This marked North Korea\\'s first absence from the Summer Olympics since 1988. In September, a month after the games concluded, the Olympic Committee of the Democratic People\\'s Republic of Korea was banned from participation in the 2022 Winter Olympics, after they failed to participate in the Tokyo Olympics. On 21 July 2021, Guinea announced it would not be sending a delegation to the Tokyo Olympics, allegedly due to COVID-19 concerns, though media outlets suggested that financial considerations may have been the real motivating factor. Guinea later reversed the decision and confirmed that it would be participating.\\n\\nThe following 206 teams qualified (including the 104 universality places guaranteed in athletics, under which all 206 NOCs may send competitors regardless of qualification).',\n",
       "  738),\n",
       " ('2020 Summer Olympics',\n",
       "  'Number of athletes by National Olympic Committee',\n",
       "  '11,420 athletes from 206 NOCs:',\n",
       "  18),\n",
       " ('2020 Summer Olympics', 'Medal summary', '*   Host nation (Japan)', 11),\n",
       " ('2020 Summer Olympics',\n",
       "  'Podium sweeps',\n",
       "  'There were two podium sweeps, as follows:',\n",
       "  12),\n",
       " ('2020 Summer Olympics',\n",
       "  'Medal ceremonies',\n",
       "  'Naoki Satō composed the music for the medal ceremonies. Satō chose not to employ any musical elements distinctive to Japan \"because victory ceremonies are for athletes from around the world\" and he wanted all medalists to \"feel at ease\" when taking their places on the podium, regardless of their nationality.The bouquets presented to the athletes came from regions affected by the 2011 earthquake and tsunami. The individual flowers were selected to represent the prefectures of Miyagi, Fukushima, Iwate, and Tokyo. The sunflowers were grown in Miyagi, planted by families whose children had died during the disaster; the white and purple eustomas and Solomon\\'s seals were provided by a non-profit initiative to boost the local economy in Fukushima; the small bright blue gentians were grown in Iwate; and aspidistras, grown in Tokyo, were chosen to complete the bouquets.',\n",
       "  185),\n",
       " ('2020 Summer Olympics',\n",
       "  'Calendar',\n",
       "  'The 2020 schedule by session was approved by the IOC Executive Board on 18 July 2018, with the exception of swimming, diving, and artistic swimming. A more detailed schedule by event was released on 16 April 2019, still omitting a detailed schedule for the boxing events. A detailed boxing schedule was released in late 2019.The original schedule was from 22 July to 9 August 2020. To postpone the Olympics until 2021, all events were delayed by 364 days (one day less than a full year to preserve the same days of the week), giving a new schedule of 21 July to 8 August 2021.\\nAll times and dates use Japan Standard Time (UTC+9)',\n",
       "  135),\n",
       " ('2020 Summer Olympics',\n",
       "  'Event scheduling',\n",
       "  \"Per the historical precedent of swimming at the 2008 Summer Olympics in Beijing and figure skating at the 2018 Winter Olympics in Pyeongchang, swimming finals were held in the morning to allow live primetime broadcasts in the Americas. NBC paid substantial fees for rights to the Olympics, so the IOC has allowed NBC to influence event scheduling to maximize U.S. television ratings when possible. On 7 May 2014, NBC agreed to a US$7.75 billion contract extension to air the Olympics through the 2032 games, which is one of the IOC's major sources of revenue. Japanese broadcasters were said to have criticized the decision, as swimming is one of the most popular Olympic events in the country.\",\n",
       "  142),\n",
       " ('2020 Summer Olympics',\n",
       "  'Marketing',\n",
       "  'The official emblems for the 2020 Olympics and Paralympics were unveiled on 25 April 2016; designed by Asao Tokolo, who won a nationwide design contest, it takes the form of a ring in an indigo-colored checkerboard pattern. The design was meant to \"express a refined elegance and sophistication that exemplifies Japan\". The checkered design resembles a pattern called ichimatsu moyo that was popular during the Edo period in Japan from 1603 to 1867. The designs replaced a previous emblem which had been scrapped after allegations that it plagiarized the logo of the Théâtre de Liège in Belgium. The Games\\' bid slogan was Discover Tomorrow (Japanese: 未来（あした）をつかもう, romanized: Ashita o tsukamō). While ashita literally means \"tomorrow\", it is intentionally spelled as mirai, \"future\". The official slogan United by Emotion was unveiled on 17 February 2020. The slogan was used solely in English.The official mascot of the 2020 Summer Olympics was Miraitowa, a figure with blue-checkered ichimatsu moyo patterns inspired by the Games\\' official emblem. Its fictional characteristics include the ability to teleport. Created by Japanese artist Ryo Taniguchi, the mascots were selected from a competition process which took place in late 2017 and early 2018. A total of 2,042 candidate designs were submitted to the Tokyo Organizing Committee, which selected three pairs of unnamed mascot designs to present to Japanese elementary school students for the final decision. The results of the selection were announced on 28 February 2018, and the mascots were named on 22 July 2018. Miraitowa is named after the Japanese words for \"future\" and \"eternity\", and Someity is named after someiyoshino, a type of cherry blossom. Someity\\'s name also refers to the English phrase \"so mighty\". The mascots were expected to help finance the Tokyo Games through merchandizing and licensing deals. For the legacy of the games on 3 January 2022, Ryo Taniguchi created Miraity (the future child of the mascots).',\n",
       "  456),\n",
       " ('2020 Summer Olympics',\n",
       "  'Look of the Games',\n",
       "  'Alongside the main Emblem blue, the five other colors used in the branding of the 2020 Games were : \\n  Kurenai red,   Ai blue,   Sakura pink,   Fuji purple, and   Matsuba green. These five traditional colors of Japan were used as sub-colors to create points of difference in the color variations.',\n",
       "  79),\n",
       " ('2020 Summer Olympics',\n",
       "  'Concerns and controversies',\n",
       "  'Several controversial issues occurred during the preparations for the Tokyo Games. There were allegations of bribery in the Japanese Olympic Committee\\'s (JOC) bid and of plagiarism in the initial design for the Games\\' logo. On 10 December 2018, the French financial crimes office began an investigation of Tsunekazu Takeda, the president of the Japanese Olympic Committee, concerning a 2013 scheme to obtain votes from African IOC members in support of Tokyo as host for the 2020 Olympics over Istanbul or Madrid. In March 2020, a Japanese businessman admitted to giving gifts, including cameras and watches, to IOC officials in order to lobby for their support of Tokyo\\'s bid to host the Olympic Games. The official emblems of the Tokyo Olympics and Paralympics, designed by Kenjirō Sano, were unveiled in July 2015 but were withdrawn and replaced following plagiarism accusations. The lawsuit by Olivier Debie, who claimed that his logo design was copied, was later dropped, with the designer citing escalating legal costs.Mass logging for construction of the Olympic venues received international criticism. Petitions, containing more than 140,000 signatures in total, were delivered to the Japanese embassies in Switzerland and Germany, expressing concerns over claims of using tropical wood sourced from Shin Yang, a Malaysian company with a record of human rights abuses, illegal logging, and rainforest destruction. In February 2018, the Olympics Organizing Committee admitted that 87% of plywood panels used to build the new national stadium was sourced from endangered rainforests.Portions of the Games were scheduled for locations impacted by the 2011 Tōhoku earthquake and tsunami, and the subsequent Fukushima Daiichi nuclear disaster. The hosting of events in these locations was promoted as a means of furthering recovery in the regions, with the Games sometimes being promoted as the \"Recovery Olympics\" (復興五輪, Fukkō Gorin). However, the organization of events in these regions has faced criticism; Fukushima is considered safe by the World Health Organization and the United Nations, although scientific studies on the safety of the area are still disputed. Some Tōhoku residents questioned the decision to use the region as a host site, arguing that preparations for the Games slowed down recovery efforts, and that the region lost workers to projects associated with the Games.It was widely reported by international media that South Korea had asked the IOC to ban the Japanese Rising Sun Flag from the 2020 Summer Olympics, claiming it to be a symbol of Japan\\'s imperialist past, recalling \"historic scars and pain\" for people of Korea just as the swastika \"reminds Europeans of the nightmare of World War II\". Use of the flag in international sporting events such as the Olympic Games is controversial because it was used for waging aggressive war against many countries in Pacific regions, including the Attack on Pearl Harbor. According to the Associated Press, the IOC issued a statement in response to South Korea\\'s request, saying, \"sports stadiums should be free of any political demonstration. When concerns arise at games time we look at them on a case by case basis.\" Russian and South Korean officials took issue with a map of the torch relay on the Games\\' official website, which depicted the disputed Liancourt Rocks (governed by South Korea) and Kuril Islands (governed by Russia since 1945) as part of Japan.In February 2021, the TOCOG president Yoshirō Mori resigned, after facing both domestic and international criticisms over his sexist remarks. The previous conduct of the new president, Seiko Hashimoto, has also drawn criticisms, leading her to comment \"I regret it and think I should be careful\" on one of the accusations. The head creative director for the opening and closing ceremonies, Hiroshi Sasaki, resigned in March 2021, after making demeaning comments about Naomi Watanabe. Sasaki\\'s replacement, Kentarō Kobayashi, was dismissed by the Organizing Committee the day before the opening ceremony, after it was reported by Japanese media that he had made a joke about the Holocaust in a script for his comedy in 1998, saying \"Let\\'s play Holocaust.\" On the eve of the opening ceremony, Yoshihide Suga, the Prime Minister of Japan and the Supreme Advisor of the Organizing Committee, described Kobayashi\\'s jokes as \"outrageous and unacceptable\", but also said that the opening ceremony, which was directed by Kobayashi, should proceed as planned.The composer for the opening ceremony, Keigo Oyamada, resigned days before the ceremony after growing criticism of his past bullying of people with apparent disabilities, such as Down syndrome. On 16 July, a week before the opening ceremony, TOCOG announced their support of Oyamada as a composer and vowed not to change his selection for the ceremonies, but growing criticism forced him to announce his resignation on 19 July. The opening ceremony music included arrangements of video game soundtracks originating in Japan; however, this included music from the Dragon Quest series, composed by Koichi Sugiyama whom The Daily Beast described as \"notoriously homophobic and ultranationalist\", leading to further criticism of the Organizing Committee.Officials reported that by early June 2021, about 10,000 of the 80,000 registered volunteers had quit. \"There\\'s no doubt that one of the reasons is concern over coronavirus infections,\" the chief executive of the Organizing Committee said, also stating he did not believe this would impact the operation of the Games. On 23 July, hundreds of anti-Olympic protestors gathered outside the Japan National Stadium before the opening ceremony. Security guards blocked reporters from leaving the stadium to interview protestors.Writing for The Conversation (website), Olympic scholar MacIntosh Ross raised concerns about the relationship between the IOC and WHO, suggesting the organizations showed a lack of concern for the health of Japanese citizens and Olympians.  As Ross explained, \"when the IOC and WHO support a global mega-event held during a pandemic, it\\'s difficult to believe that the well-being of the host nation remains a priority.\"A number of controversies arose during the Games, most notably the attempted repatriation on 1 August of Belarusian sprinter Krystsina Tsimanouskaya, allegedly for her criticism of the national sports authorities and team management. Refusing to return to Belarus, over fears for her safety, Tsimanouskaya sought assistance from the IOC and traveled to Warsaw, Poland, on 4 August after being granted a humanitarian visa by Tokyo\\'s Polish Embassy.Near the end of the Olympics, it was reported that Australian athletes had damaged the village rooms before departure, leaving a pool of vomit on the floor, damaged beds and a hole in the wall. Australian rugby Olympians also reportedly became drunk on the flight to Sydney, leaving vomit in the plane bathroom and receiving complaints from other passengers. Team Australia chief Ian Chesterman played down the incidents, and said that the Olympians would not be punished.',\n",
       "  1398),\n",
       " ('2020 Summer Olympics',\n",
       "  'Broadcasting',\n",
       "  'The Olympic Games Tokyo 2020 reached a global broadcast audience of 3.05 billion people, according to independent research conducted on behalf of the International Olympic Committee (IOC). Official coverage on Olympic broadcast partners\\' digital platforms alone generated 28 billion video views in total – representing a 139 per cent increase compared with the Olympic Games Rio 2016 and underlining the changing media landscape and Tokyo 2020\\'s designation as the first streaming Games and the most watched Olympic Games ever on digital platforms.Sony and Panasonic partnered with NHK to develop broadcasting standards for 8K resolution television, with a goal to release 8K television sets in time for the 2020 Summer Olympics. In early 2019, Italian broadcaster RAI announced its intention to deploy 8K broadcasting for the Games. NHK broadcast the opening and closing ceremonies, and coverage of selected events in 8K. Telecom company NTT Docomo signed a deal with Finland\\'s Nokia to provide 5G-ready baseband networks in Japan in time for the Games.The Tokyo Olympics were broadcast in the United States by NBCUniversal networks, as part of a US$4.38 billion agreement that began at the 2014 Winter Olympics in Sochi. The United States Olympic & Paralympic Committee asserted that a \"right of abatement\" clause in the contract was triggered by the delay of the Games to 2021, requiring the IOC to \"negotiate in good faith an equitable reduction in the applicable broadcast rights payments\" by NBC, which remains one of IOC\\'s biggest revenue streams. According to NBCUniversal CEO Jeff Shell, the Tokyo games could be the most profitable Olympics in NBC\\'s history. The Tokyo games were NBC\\'s first Olympics broadcast under current president Susan Rosner Rovner.In Europe, this was the first Summer Olympics under the IOC\\'s exclusive pan-European rights deal with Eurosport, which began at the 2018 Winter Olympics and is contracted to run through 2024. The rights for the 2020 Summer Olympics covered almost all of Europe; a pre-existing deal with a marketer excludes Russia. Eurosport planned to sub-license coverage to free-to-air networks in each territory, and other channels owned by Discovery, Inc. subsidiaries. In the United Kingdom, these were set to be the last Games with rights owned primarily by the BBC, although as a condition of a sub-licensing agreement due to carry into the 2022 and 2024 Games, Eurosport holds exclusive pay television rights. In France, these were the last Games whose rights are primarily owned by France Télévisions. Eurosport debuted as pay television rightsholder, after Canal+ elected to sell its pay television rights as a cost-saving measure.In Canada, the 2020 Games were shown on CBC/Radio-Canada platforms, Sportsnet, TSN and TLN. In Australia, they were aired by Seven Network. In the Indian subcontinent, they were aired by Sony Pictures Networks India (SPN).',\n",
       "  586)]"
      ]
     },
     "execution_count": 42,
     "metadata": {},
     "output_type": "execute_result"
    }
   ],
   "source": [
    "outputs = extract_sections(pages[0].content,pages[0].title)\n",
    "outputs\n"
   ]
  },
  {
   "cell_type": "markdown",
   "metadata": {},
   "source": [
    "## End ss debug"
   ]
  },
  {
   "cell_type": "markdown",
   "metadata": {},
   "source": [
    "### 1.2.1 We create a dataset and filter out any sections with fewer than 40 tokens, as those are unlikely to contain enough context to ask a good question."
   ]
  },
  {
   "cell_type": "code",
   "execution_count": 46,
   "metadata": {},
   "outputs": [
    {
     "data": {
      "text/html": [
       "<div>\n",
       "<style scoped>\n",
       "    .dataframe tbody tr th:only-of-type {\n",
       "        vertical-align: middle;\n",
       "    }\n",
       "\n",
       "    .dataframe tbody tr th {\n",
       "        vertical-align: top;\n",
       "    }\n",
       "\n",
       "    .dataframe thead th {\n",
       "        text-align: right;\n",
       "    }\n",
       "</style>\n",
       "<table border=\"1\" class=\"dataframe\">\n",
       "  <thead>\n",
       "    <tr style=\"text-align: right;\">\n",
       "      <th></th>\n",
       "      <th>title</th>\n",
       "      <th>heading</th>\n",
       "      <th>content</th>\n",
       "      <th>tokens</th>\n",
       "    </tr>\n",
       "  </thead>\n",
       "  <tbody>\n",
       "    <tr>\n",
       "      <th>0</th>\n",
       "      <td>2020 Summer Olympics</td>\n",
       "      <td>Summary</td>\n",
       "      <td>The 2020 Summer Olympics (Japanese: 2020年夏季オリン...</td>\n",
       "      <td>728</td>\n",
       "    </tr>\n",
       "    <tr>\n",
       "      <th>1</th>\n",
       "      <td>2020 Summer Olympics</td>\n",
       "      <td>Host city selection</td>\n",
       "      <td>The International Olympic Committee (IOC) vote...</td>\n",
       "      <td>126</td>\n",
       "    </tr>\n",
       "    <tr>\n",
       "      <th>2</th>\n",
       "      <td>2020 Summer Olympics</td>\n",
       "      <td>Impact of the COVID-19 pandemic</td>\n",
       "      <td>In January 2020, concerns were raised about th...</td>\n",
       "      <td>374</td>\n",
       "    </tr>\n",
       "    <tr>\n",
       "      <th>3</th>\n",
       "      <td>2020 Summer Olympics</td>\n",
       "      <td>Qualifying event cancellation and postponement</td>\n",
       "      <td>Concerns about the pandemic began to affect qu...</td>\n",
       "      <td>298</td>\n",
       "    </tr>\n",
       "    <tr>\n",
       "      <th>4</th>\n",
       "      <td>2020 Summer Olympics</td>\n",
       "      <td>Effect on doping tests</td>\n",
       "      <td>Mandatory doping tests were being severely res...</td>\n",
       "      <td>163</td>\n",
       "    </tr>\n",
       "  </tbody>\n",
       "</table>\n",
       "</div>"
      ],
      "text/plain": [
       "                  title                                         heading  \\\n",
       "0  2020 Summer Olympics                                         Summary   \n",
       "1  2020 Summer Olympics                             Host city selection   \n",
       "2  2020 Summer Olympics                 Impact of the COVID-19 pandemic   \n",
       "3  2020 Summer Olympics  Qualifying event cancellation and postponement   \n",
       "4  2020 Summer Olympics                          Effect on doping tests   \n",
       "\n",
       "                                             content  tokens  \n",
       "0  The 2020 Summer Olympics (Japanese: 2020年夏季オリン...     728  \n",
       "1  The International Olympic Committee (IOC) vote...     126  \n",
       "2  In January 2020, concerns were raised about th...     374  \n",
       "3  Concerns about the pandemic began to affect qu...     298  \n",
       "4  Mandatory doping tests were being severely res...     163  "
      ]
     },
     "execution_count": 46,
     "metadata": {},
     "output_type": "execute_result"
    }
   ],
   "source": [
    "res = []\n",
    "for page in pages:\n",
    "    res += extract_sections(page.content, page.title)\n",
    "df = pd.DataFrame(res, columns=[\"title\", \"heading\", \"content\", \"tokens\"])\n",
    "df = df[df.tokens>40]\n",
    "df = df.drop_duplicates(['title','heading'])\n",
    "df = df.reset_index().drop('index',axis=1) # reset index\n",
    "df.head()"
   ]
  },
  {
   "cell_type": "code",
   "execution_count": 53,
   "metadata": {},
   "outputs": [
    {
     "data": {
      "text/plain": [
       "(3924, 4)"
      ]
     },
     "execution_count": 53,
     "metadata": {},
     "output_type": "execute_result"
    }
   ],
   "source": [
    "df.shape"
   ]
  },
  {
   "cell_type": "markdown",
   "metadata": {},
   "source": [
    "### Save the section dataset\n",
    "We will save the section dataset, for the [next notebook](olympics-2-create-qa.ipynb)"
   ]
  },
  {
   "cell_type": "code",
   "execution_count": 47,
   "metadata": {},
   "outputs": [
    {
     "ename": "OSError",
     "evalue": "Cannot save file into a non-existent directory: 'olympics-data'",
     "output_type": "error",
     "traceback": [
      "\u001b[0;31m---------------------------------------------------------------------------\u001b[0m",
      "\u001b[0;31mOSError\u001b[0m                                   Traceback (most recent call last)",
      "Cell \u001b[0;32mIn[47], line 1\u001b[0m\n\u001b[0;32m----> 1\u001b[0m df\u001b[39m.\u001b[39;49mto_csv(\u001b[39m'\u001b[39;49m\u001b[39molympics-data/olympics_sections.csv\u001b[39;49m\u001b[39m'\u001b[39;49m, index\u001b[39m=\u001b[39;49m\u001b[39mFalse\u001b[39;49;00m)\n",
      "File \u001b[0;32m~/miniforge3/envs/openaicookbook/lib/python3.9/site-packages/pandas/util/_decorators.py:211\u001b[0m, in \u001b[0;36mdeprecate_kwarg.<locals>._deprecate_kwarg.<locals>.wrapper\u001b[0;34m(*args, **kwargs)\u001b[0m\n\u001b[1;32m    209\u001b[0m     \u001b[39melse\u001b[39;00m:\n\u001b[1;32m    210\u001b[0m         kwargs[new_arg_name] \u001b[39m=\u001b[39m new_arg_value\n\u001b[0;32m--> 211\u001b[0m \u001b[39mreturn\u001b[39;00m func(\u001b[39m*\u001b[39;49margs, \u001b[39m*\u001b[39;49m\u001b[39m*\u001b[39;49mkwargs)\n",
      "File \u001b[0;32m~/miniforge3/envs/openaicookbook/lib/python3.9/site-packages/pandas/core/generic.py:3720\u001b[0m, in \u001b[0;36mNDFrame.to_csv\u001b[0;34m(self, path_or_buf, sep, na_rep, float_format, columns, header, index, index_label, mode, encoding, compression, quoting, quotechar, lineterminator, chunksize, date_format, doublequote, escapechar, decimal, errors, storage_options)\u001b[0m\n\u001b[1;32m   3709\u001b[0m df \u001b[39m=\u001b[39m \u001b[39mself\u001b[39m \u001b[39mif\u001b[39;00m \u001b[39misinstance\u001b[39m(\u001b[39mself\u001b[39m, ABCDataFrame) \u001b[39melse\u001b[39;00m \u001b[39mself\u001b[39m\u001b[39m.\u001b[39mto_frame()\n\u001b[1;32m   3711\u001b[0m formatter \u001b[39m=\u001b[39m DataFrameFormatter(\n\u001b[1;32m   3712\u001b[0m     frame\u001b[39m=\u001b[39mdf,\n\u001b[1;32m   3713\u001b[0m     header\u001b[39m=\u001b[39mheader,\n\u001b[0;32m   (...)\u001b[0m\n\u001b[1;32m   3717\u001b[0m     decimal\u001b[39m=\u001b[39mdecimal,\n\u001b[1;32m   3718\u001b[0m )\n\u001b[0;32m-> 3720\u001b[0m \u001b[39mreturn\u001b[39;00m DataFrameRenderer(formatter)\u001b[39m.\u001b[39;49mto_csv(\n\u001b[1;32m   3721\u001b[0m     path_or_buf,\n\u001b[1;32m   3722\u001b[0m     lineterminator\u001b[39m=\u001b[39;49mlineterminator,\n\u001b[1;32m   3723\u001b[0m     sep\u001b[39m=\u001b[39;49msep,\n\u001b[1;32m   3724\u001b[0m     encoding\u001b[39m=\u001b[39;49mencoding,\n\u001b[1;32m   3725\u001b[0m     errors\u001b[39m=\u001b[39;49merrors,\n\u001b[1;32m   3726\u001b[0m     compression\u001b[39m=\u001b[39;49mcompression,\n\u001b[1;32m   3727\u001b[0m     quoting\u001b[39m=\u001b[39;49mquoting,\n\u001b[1;32m   3728\u001b[0m     columns\u001b[39m=\u001b[39;49mcolumns,\n\u001b[1;32m   3729\u001b[0m     index_label\u001b[39m=\u001b[39;49mindex_label,\n\u001b[1;32m   3730\u001b[0m     mode\u001b[39m=\u001b[39;49mmode,\n\u001b[1;32m   3731\u001b[0m     chunksize\u001b[39m=\u001b[39;49mchunksize,\n\u001b[1;32m   3732\u001b[0m     quotechar\u001b[39m=\u001b[39;49mquotechar,\n\u001b[1;32m   3733\u001b[0m     date_format\u001b[39m=\u001b[39;49mdate_format,\n\u001b[1;32m   3734\u001b[0m     doublequote\u001b[39m=\u001b[39;49mdoublequote,\n\u001b[1;32m   3735\u001b[0m     escapechar\u001b[39m=\u001b[39;49mescapechar,\n\u001b[1;32m   3736\u001b[0m     storage_options\u001b[39m=\u001b[39;49mstorage_options,\n\u001b[1;32m   3737\u001b[0m )\n",
      "File \u001b[0;32m~/miniforge3/envs/openaicookbook/lib/python3.9/site-packages/pandas/util/_decorators.py:211\u001b[0m, in \u001b[0;36mdeprecate_kwarg.<locals>._deprecate_kwarg.<locals>.wrapper\u001b[0;34m(*args, **kwargs)\u001b[0m\n\u001b[1;32m    209\u001b[0m     \u001b[39melse\u001b[39;00m:\n\u001b[1;32m    210\u001b[0m         kwargs[new_arg_name] \u001b[39m=\u001b[39m new_arg_value\n\u001b[0;32m--> 211\u001b[0m \u001b[39mreturn\u001b[39;00m func(\u001b[39m*\u001b[39;49margs, \u001b[39m*\u001b[39;49m\u001b[39m*\u001b[39;49mkwargs)\n",
      "File \u001b[0;32m~/miniforge3/envs/openaicookbook/lib/python3.9/site-packages/pandas/io/formats/format.py:1189\u001b[0m, in \u001b[0;36mDataFrameRenderer.to_csv\u001b[0;34m(self, path_or_buf, encoding, sep, columns, index_label, mode, compression, quoting, quotechar, lineterminator, chunksize, date_format, doublequote, escapechar, errors, storage_options)\u001b[0m\n\u001b[1;32m   1168\u001b[0m     created_buffer \u001b[39m=\u001b[39m \u001b[39mFalse\u001b[39;00m\n\u001b[1;32m   1170\u001b[0m csv_formatter \u001b[39m=\u001b[39m CSVFormatter(\n\u001b[1;32m   1171\u001b[0m     path_or_buf\u001b[39m=\u001b[39mpath_or_buf,\n\u001b[1;32m   1172\u001b[0m     lineterminator\u001b[39m=\u001b[39mlineterminator,\n\u001b[0;32m   (...)\u001b[0m\n\u001b[1;32m   1187\u001b[0m     formatter\u001b[39m=\u001b[39m\u001b[39mself\u001b[39m\u001b[39m.\u001b[39mfmt,\n\u001b[1;32m   1188\u001b[0m )\n\u001b[0;32m-> 1189\u001b[0m csv_formatter\u001b[39m.\u001b[39;49msave()\n\u001b[1;32m   1191\u001b[0m \u001b[39mif\u001b[39;00m created_buffer:\n\u001b[1;32m   1192\u001b[0m     \u001b[39massert\u001b[39;00m \u001b[39misinstance\u001b[39m(path_or_buf, StringIO)\n",
      "File \u001b[0;32m~/miniforge3/envs/openaicookbook/lib/python3.9/site-packages/pandas/io/formats/csvs.py:241\u001b[0m, in \u001b[0;36mCSVFormatter.save\u001b[0;34m(self)\u001b[0m\n\u001b[1;32m    237\u001b[0m \u001b[39m\"\"\"\u001b[39;00m\n\u001b[1;32m    238\u001b[0m \u001b[39mCreate the writer & save.\u001b[39;00m\n\u001b[1;32m    239\u001b[0m \u001b[39m\"\"\"\u001b[39;00m\n\u001b[1;32m    240\u001b[0m \u001b[39m# apply compression and byte/text conversion\u001b[39;00m\n\u001b[0;32m--> 241\u001b[0m \u001b[39mwith\u001b[39;00m get_handle(\n\u001b[1;32m    242\u001b[0m     \u001b[39mself\u001b[39;49m\u001b[39m.\u001b[39;49mfilepath_or_buffer,\n\u001b[1;32m    243\u001b[0m     \u001b[39mself\u001b[39;49m\u001b[39m.\u001b[39;49mmode,\n\u001b[1;32m    244\u001b[0m     encoding\u001b[39m=\u001b[39;49m\u001b[39mself\u001b[39;49m\u001b[39m.\u001b[39;49mencoding,\n\u001b[1;32m    245\u001b[0m     errors\u001b[39m=\u001b[39;49m\u001b[39mself\u001b[39;49m\u001b[39m.\u001b[39;49merrors,\n\u001b[1;32m    246\u001b[0m     compression\u001b[39m=\u001b[39;49m\u001b[39mself\u001b[39;49m\u001b[39m.\u001b[39;49mcompression,\n\u001b[1;32m    247\u001b[0m     storage_options\u001b[39m=\u001b[39;49m\u001b[39mself\u001b[39;49m\u001b[39m.\u001b[39;49mstorage_options,\n\u001b[1;32m    248\u001b[0m ) \u001b[39mas\u001b[39;00m handles:\n\u001b[1;32m    249\u001b[0m \n\u001b[1;32m    250\u001b[0m     \u001b[39m# Note: self.encoding is irrelevant here\u001b[39;00m\n\u001b[1;32m    251\u001b[0m     \u001b[39mself\u001b[39m\u001b[39m.\u001b[39mwriter \u001b[39m=\u001b[39m csvlib\u001b[39m.\u001b[39mwriter(\n\u001b[1;32m    252\u001b[0m         handles\u001b[39m.\u001b[39mhandle,\n\u001b[1;32m    253\u001b[0m         lineterminator\u001b[39m=\u001b[39m\u001b[39mself\u001b[39m\u001b[39m.\u001b[39mlineterminator,\n\u001b[0;32m   (...)\u001b[0m\n\u001b[1;32m    258\u001b[0m         quotechar\u001b[39m=\u001b[39m\u001b[39mself\u001b[39m\u001b[39m.\u001b[39mquotechar,\n\u001b[1;32m    259\u001b[0m     )\n\u001b[1;32m    261\u001b[0m     \u001b[39mself\u001b[39m\u001b[39m.\u001b[39m_save()\n",
      "File \u001b[0;32m~/miniforge3/envs/openaicookbook/lib/python3.9/site-packages/pandas/io/common.py:734\u001b[0m, in \u001b[0;36mget_handle\u001b[0;34m(path_or_buf, mode, encoding, compression, memory_map, is_text, errors, storage_options)\u001b[0m\n\u001b[1;32m    732\u001b[0m \u001b[39m# Only for write methods\u001b[39;00m\n\u001b[1;32m    733\u001b[0m \u001b[39mif\u001b[39;00m \u001b[39m\"\u001b[39m\u001b[39mr\u001b[39m\u001b[39m\"\u001b[39m \u001b[39mnot\u001b[39;00m \u001b[39min\u001b[39;00m mode \u001b[39mand\u001b[39;00m is_path:\n\u001b[0;32m--> 734\u001b[0m     check_parent_directory(\u001b[39mstr\u001b[39;49m(handle))\n\u001b[1;32m    736\u001b[0m \u001b[39mif\u001b[39;00m compression:\n\u001b[1;32m    737\u001b[0m     \u001b[39mif\u001b[39;00m compression \u001b[39m!=\u001b[39m \u001b[39m\"\u001b[39m\u001b[39mzstd\u001b[39m\u001b[39m\"\u001b[39m:\n\u001b[1;32m    738\u001b[0m         \u001b[39m# compression libraries do not like an explicit text-mode\u001b[39;00m\n",
      "File \u001b[0;32m~/miniforge3/envs/openaicookbook/lib/python3.9/site-packages/pandas/io/common.py:597\u001b[0m, in \u001b[0;36mcheck_parent_directory\u001b[0;34m(path)\u001b[0m\n\u001b[1;32m    595\u001b[0m parent \u001b[39m=\u001b[39m Path(path)\u001b[39m.\u001b[39mparent\n\u001b[1;32m    596\u001b[0m \u001b[39mif\u001b[39;00m \u001b[39mnot\u001b[39;00m parent\u001b[39m.\u001b[39mis_dir():\n\u001b[0;32m--> 597\u001b[0m     \u001b[39mraise\u001b[39;00m \u001b[39mOSError\u001b[39;00m(\u001b[39mrf\u001b[39m\u001b[39m\"\u001b[39m\u001b[39mCannot save file into a non-existent directory: \u001b[39m\u001b[39m'\u001b[39m\u001b[39m{\u001b[39;00mparent\u001b[39m}\u001b[39;00m\u001b[39m'\u001b[39m\u001b[39m\"\u001b[39m)\n",
      "\u001b[0;31mOSError\u001b[0m: Cannot save file into a non-existent directory: 'olympics-data'"
     ]
    }
   ],
   "source": [
    "df.to_csv('olympics-data/olympics_sections.csv', index=False)"
   ]
  },
  {
   "cell_type": "code",
   "execution_count": 48,
   "metadata": {},
   "outputs": [],
   "source": [
    "df.to_csv('olympics_sections.csv', index=False)"
   ]
  },
  {
   "cell_type": "markdown",
   "metadata": {},
   "source": [
    "## 1.3 (Optional) Exploring the data "
   ]
  },
  {
   "cell_type": "code",
   "execution_count": 49,
   "metadata": {},
   "outputs": [
    {
     "data": {
      "text/plain": [
       "Concerns and controversies at the 2020 Summer Olympics    52\n",
       "United States at the 2020 Summer Olympics                 44\n",
       "Great Britain at the 2020 Summer Olympics                 43\n",
       "Australia at the 2020 Summer Olympics                     39\n",
       "Canada at the 2020 Summer Olympics                        39\n",
       "Name: title, dtype: int64"
      ]
     },
     "execution_count": 49,
     "metadata": {},
     "output_type": "execute_result"
    }
   ],
   "source": [
    "df.title.value_counts().head()"
   ]
  },
  {
   "cell_type": "markdown",
   "metadata": {},
   "source": [
    "There appear to be winter and summer Olympics 2020. We chose to leave a little ambiguity and noise in the dataset, even though we were interested in only Summer Olympics 2020."
   ]
  },
  {
   "cell_type": "code",
   "execution_count": 50,
   "metadata": {},
   "outputs": [
    {
     "data": {
      "text/plain": [
       "True     3655\n",
       "False     269\n",
       "Name: title, dtype: int64"
      ]
     },
     "execution_count": 50,
     "metadata": {},
     "output_type": "execute_result"
    }
   ],
   "source": [
    "df.title.str.contains('Summer').value_counts()"
   ]
  },
  {
   "cell_type": "code",
   "execution_count": 51,
   "metadata": {},
   "outputs": [
    {
     "data": {
      "text/plain": [
       "False    3829\n",
       "True       95\n",
       "Name: title, dtype: int64"
      ]
     },
     "execution_count": 51,
     "metadata": {},
     "output_type": "execute_result"
    }
   ],
   "source": [
    "df.title.str.contains('Winter').value_counts()"
   ]
  },
  {
   "cell_type": "code",
   "execution_count": 52,
   "metadata": {},
   "outputs": [
    {
     "data": {
      "image/png": "[encoded data removed]",
      "text/plain": [
       "<Figure size 640x480 with 1 Axes>"
      ]
     },
     "metadata": {},
     "output_type": "display_data"
    }
   ],
   "source": [
    "import pandas as pd\n",
    "from matplotlib import pyplot as plt\n",
    "\n",
    "df = pd.read_csv('olympics_sections.csv')\n",
    "df[['tokens']].hist()\n",
    "# add axis descriptions and title\n",
    "plt.xlabel('Number of tokens')\n",
    "plt.ylabel('Number of Wikipedia sections')\n",
    "plt.title('Distribution of number of tokens in Wikipedia sections')\n",
    "plt.show()"
   ]
  },
  {
   "cell_type": "markdown",
   "metadata": {},
   "source": [
    "We can see that the majority of section are fairly short (less than 500 tokens)."
   ]
  }
 ],
 "metadata": {
  "kernelspec": {
   "display_name": "Python 3.9.15 ('openaicookbook')",
   "language": "python",
   "name": "python3"
  },
  "language_info": {
   "codemirror_mode": {
    "name": "ipython",
    "version": 3
   },
   "file_extension": ".py",
   "mimetype": "text/x-python",
   "name": "python",
   "nbconvert_exporter": "python",
   "pygments_lexer": "ipython3",
   "version": "3.9.15"
  },
  "vscode": {
   "interpreter": {
    "hash": "9c32fff481b96d670b9502c09aa1cef3192770615baa9b15ee34244803cffff2"
   }
  }
 },
 "nbformat": 4,
 "nbformat_minor": 4
}
